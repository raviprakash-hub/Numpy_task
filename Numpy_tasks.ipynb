{
  "cells": [
    {
      "cell_type": "markdown",
      "metadata": {
        "id": "b-_ufZHYyL1o"
      },
      "source": [
        "# Numpy\n",
        "\n"
      ]
    },
    {
      "cell_type": "markdown",
      "metadata": {
        "id": "TSAdtcFiyL1w"
      },
      "source": [
        "#### 1. Import the numpy package under the name `np` (★☆☆) \n",
        "(**hint**: import … as …)"
      ]
    },
    {
      "cell_type": "code",
      "execution_count": 2,
      "metadata": {
        "collapsed": true,
        "id": "QsDIuSgSyL1x"
      },
      "outputs": [],
      "source": [
        "import numpy as np"
      ]
    },
    {
      "cell_type": "markdown",
      "metadata": {
        "id": "6ofqybUOyL1y"
      },
      "source": [
        "#### 2. Print the numpy version and the configuration (★☆☆) \n",
        "(**hint**: np.\\_\\_version\\_\\_, np.show\\_config)"
      ]
    },
    {
      "cell_type": "code",
      "execution_count": 3,
      "metadata": {
        "id": "n-92RujFyL10",
        "outputId": "f14a9da4-5030-440e-bda3-c3c1d31dca95",
        "colab": {
          "base_uri": "https://localhost:8080/"
        }
      },
      "outputs": [
        {
          "output_type": "stream",
          "name": "stdout",
          "text": [
            "1.21.6\n",
            "blas_mkl_info:\n",
            "  NOT AVAILABLE\n",
            "blis_info:\n",
            "  NOT AVAILABLE\n",
            "openblas_info:\n",
            "    libraries = ['openblas', 'openblas']\n",
            "    library_dirs = ['/usr/local/lib']\n",
            "    language = c\n",
            "    define_macros = [('HAVE_CBLAS', None)]\n",
            "    runtime_library_dirs = ['/usr/local/lib']\n",
            "blas_opt_info:\n",
            "    libraries = ['openblas', 'openblas']\n",
            "    library_dirs = ['/usr/local/lib']\n",
            "    language = c\n",
            "    define_macros = [('HAVE_CBLAS', None)]\n",
            "    runtime_library_dirs = ['/usr/local/lib']\n",
            "lapack_mkl_info:\n",
            "  NOT AVAILABLE\n",
            "openblas_lapack_info:\n",
            "    libraries = ['openblas', 'openblas']\n",
            "    library_dirs = ['/usr/local/lib']\n",
            "    language = c\n",
            "    define_macros = [('HAVE_CBLAS', None)]\n",
            "    runtime_library_dirs = ['/usr/local/lib']\n",
            "lapack_opt_info:\n",
            "    libraries = ['openblas', 'openblas']\n",
            "    library_dirs = ['/usr/local/lib']\n",
            "    language = c\n",
            "    define_macros = [('HAVE_CBLAS', None)]\n",
            "    runtime_library_dirs = ['/usr/local/lib']\n",
            "Supported SIMD extensions in this NumPy install:\n",
            "    baseline = SSE,SSE2,SSE3\n",
            "    found = SSSE3,SSE41,POPCNT,SSE42,AVX,F16C,FMA3,AVX2\n",
            "    not found = AVX512F,AVX512CD,AVX512_KNL,AVX512_KNM,AVX512_SKX,AVX512_CLX,AVX512_CNL,AVX512_ICL\n"
          ]
        }
      ],
      "source": [
        "print(np.__version__)\n",
        "np.show_config()"
      ]
    },
    {
      "cell_type": "markdown",
      "metadata": {
        "id": "WG_JuGNlyL11"
      },
      "source": [
        "#### 3. Create a null vector of size 10 (★☆☆) \n",
        "(**hint**: np.zeros)"
      ]
    },
    {
      "cell_type": "code",
      "execution_count": 4,
      "metadata": {
        "id": "Gsj93T88yL12",
        "outputId": "9aa80472-f164-4297-8d3f-c7fa8a442097",
        "colab": {
          "base_uri": "https://localhost:8080/"
        }
      },
      "outputs": [
        {
          "output_type": "execute_result",
          "data": {
            "text/plain": [
              "array([0., 0., 0., 0., 0., 0., 0., 0., 0., 0.])"
            ]
          },
          "metadata": {},
          "execution_count": 4
        }
      ],
      "source": [
        "x=np.zeros(10)\n",
        "x"
      ]
    },
    {
      "cell_type": "markdown",
      "metadata": {
        "id": "rVf3tPMsyL14"
      },
      "source": [
        "#### 4.  How to find the memory size of any array (★☆☆) \n",
        "(**hint**: size, itemsize)"
      ]
    },
    {
      "cell_type": "code",
      "execution_count": 8,
      "metadata": {
        "id": "tMGQM512yL15",
        "outputId": "b47a652a-a0df-487e-c856-33de0625bbd2",
        "colab": {
          "base_uri": "https://localhost:8080/"
        }
      },
      "outputs": [
        {
          "output_type": "stream",
          "name": "stdout",
          "text": [
            "10\n",
            "8\n",
            "80\n",
            "80\n"
          ]
        }
      ],
      "source": [
        "print(x.size)\n",
        "print(x.itemsize)\n",
        "print(x.size * x.itemsize)\n",
        "print(x.nbytes)"
      ]
    },
    {
      "cell_type": "markdown",
      "metadata": {
        "id": "OlcBZW7fyL17"
      },
      "source": [
        "#### 5.  How to get the documentation of the numpy add function from the command line? (★☆☆) \n",
        "(**hint**: np.info)"
      ]
    },
    {
      "cell_type": "code",
      "execution_count": 9,
      "metadata": {
        "collapsed": true,
        "id": "AkOeOc1CyL18",
        "outputId": "49114b51-53c6-4a8d-e01a-eb3523458b7f",
        "colab": {
          "base_uri": "https://localhost:8080/"
        }
      },
      "outputs": [
        {
          "output_type": "stream",
          "name": "stdout",
          "text": [
            "add(x1, x2, /, out=None, *, where=True, casting='same_kind', order='K', dtype=None, subok=True[, signature, extobj])\n",
            "\n",
            "Add arguments element-wise.\n",
            "\n",
            "Parameters\n",
            "----------\n",
            "x1, x2 : array_like\n",
            "    The arrays to be added.\n",
            "    If ``x1.shape != x2.shape``, they must be broadcastable to a common\n",
            "    shape (which becomes the shape of the output).\n",
            "out : ndarray, None, or tuple of ndarray and None, optional\n",
            "    A location into which the result is stored. If provided, it must have\n",
            "    a shape that the inputs broadcast to. If not provided or None,\n",
            "    a freshly-allocated array is returned. A tuple (possible only as a\n",
            "    keyword argument) must have length equal to the number of outputs.\n",
            "where : array_like, optional\n",
            "    This condition is broadcast over the input. At locations where the\n",
            "    condition is True, the `out` array will be set to the ufunc result.\n",
            "    Elsewhere, the `out` array will retain its original value.\n",
            "    Note that if an uninitialized `out` array is created via the default\n",
            "    ``out=None``, locations within it where the condition is False will\n",
            "    remain uninitialized.\n",
            "**kwargs\n",
            "    For other keyword-only arguments, see the\n",
            "    :ref:`ufunc docs <ufuncs.kwargs>`.\n",
            "\n",
            "Returns\n",
            "-------\n",
            "add : ndarray or scalar\n",
            "    The sum of `x1` and `x2`, element-wise.\n",
            "    This is a scalar if both `x1` and `x2` are scalars.\n",
            "\n",
            "Notes\n",
            "-----\n",
            "Equivalent to `x1` + `x2` in terms of array broadcasting.\n",
            "\n",
            "Examples\n",
            "--------\n",
            ">>> np.add(1.0, 4.0)\n",
            "5.0\n",
            ">>> x1 = np.arange(9.0).reshape((3, 3))\n",
            ">>> x2 = np.arange(3.0)\n",
            ">>> np.add(x1, x2)\n",
            "array([[  0.,   2.,   4.],\n",
            "       [  3.,   5.,   7.],\n",
            "       [  6.,   8.,  10.]])\n",
            "\n",
            "The ``+`` operator can be used as a shorthand for ``np.add`` on ndarrays.\n",
            "\n",
            ">>> x1 = np.arange(9.0).reshape((3, 3))\n",
            ">>> x2 = np.arange(3.0)\n",
            ">>> x1 + x2\n",
            "array([[ 0.,  2.,  4.],\n",
            "       [ 3.,  5.,  7.],\n",
            "       [ 6.,  8., 10.]])\n",
            "None\n"
          ]
        }
      ],
      "source": [
        "print(np.info(np.add))"
      ]
    },
    {
      "cell_type": "markdown",
      "metadata": {
        "id": "kRDkQPOAyL19"
      },
      "source": [
        "#### 6.  Create a null vector of size 10 but the fifth value which is 1 (★☆☆) \n",
        "(**hint**: array\\[4\\])"
      ]
    },
    {
      "cell_type": "code",
      "execution_count": 10,
      "metadata": {
        "id": "5Go3ig1ayL1-",
        "outputId": "ac01804f-e9bb-4d74-b2c0-f039c4c56300",
        "colab": {
          "base_uri": "https://localhost:8080/"
        }
      },
      "outputs": [
        {
          "output_type": "stream",
          "name": "stdout",
          "text": [
            "[0. 0. 0. 0. 1. 0. 0. 0. 0. 0.]\n"
          ]
        }
      ],
      "source": [
        "arr=np.zeros(10)\n",
        "arr[4]=1\n",
        "print(arr)"
      ]
    },
    {
      "cell_type": "markdown",
      "metadata": {
        "id": "t6W26zw7yL1-"
      },
      "source": [
        "#### 7.  Create a vector with values ranging from 10 to 49 (★☆☆) \n",
        "(**hint**: np.arange)"
      ]
    },
    {
      "cell_type": "code",
      "execution_count": 11,
      "metadata": {
        "id": "Ns7r3t4ryL1_",
        "outputId": "03867a8c-e7cc-4e10-e1da-eed0effbd540",
        "colab": {
          "base_uri": "https://localhost:8080/"
        }
      },
      "outputs": [
        {
          "output_type": "stream",
          "name": "stdout",
          "text": [
            "[10 11 12 13 14 15 16 17 18 19 20 21 22 23 24 25 26 27 28 29 30 31 32 33\n",
            " 34 35 36 37 38 39 40 41 42 43 44 45 46 47 48 49]\n"
          ]
        }
      ],
      "source": [
        "x=np.arange(10,50)\n",
        "print(x)"
      ]
    },
    {
      "cell_type": "markdown",
      "metadata": {
        "id": "10amtY3yyL2A"
      },
      "source": [
        "#### 8.  Reverse a vector (first element becomes last) (★☆☆) \n",
        "(**hint**: array\\[::-1\\])"
      ]
    },
    {
      "cell_type": "code",
      "execution_count": 12,
      "metadata": {
        "id": "p9XDNF3XyL2A",
        "outputId": "f8ba4182-ed96-422d-b3ec-950235ddb760",
        "colab": {
          "base_uri": "https://localhost:8080/"
        }
      },
      "outputs": [
        {
          "output_type": "stream",
          "name": "stdout",
          "text": [
            "[49 48 47 46 45 44 43 42 41 40 39 38 37 36 35 34 33 32 31 30 29 28 27 26\n",
            " 25 24 23 22 21 20 19 18 17 16 15 14 13 12 11 10]\n"
          ]
        }
      ],
      "source": [
        "print(x[::-1])"
      ]
    },
    {
      "cell_type": "markdown",
      "metadata": {
        "id": "Cn8bpccEyL2B"
      },
      "source": [
        "#### 9.  Create a 3x3 matrix with values ranging from 0 to 8 (★☆☆) \n",
        "(**hint**: reshape)"
      ]
    },
    {
      "cell_type": "code",
      "execution_count": 13,
      "metadata": {
        "id": "CNn67bi0yL2B",
        "outputId": "7bd2b755-51b8-4096-a41e-ad2732af1bfb",
        "colab": {
          "base_uri": "https://localhost:8080/"
        }
      },
      "outputs": [
        {
          "output_type": "stream",
          "name": "stdout",
          "text": [
            "[[0 1 2]\n",
            " [3 4 5]\n",
            " [6 7 8]]\n"
          ]
        }
      ],
      "source": [
        "matrix=np.arange(0,9).reshape(3,3)\n",
        "print(matrix)"
      ]
    },
    {
      "cell_type": "markdown",
      "metadata": {
        "id": "CN1HaQ9tyL2C"
      },
      "source": [
        "#### 10. Find indices of non-zero elements from \\[1,2,0,0,4,0\\] (★☆☆) \n",
        "(**hint**: np.nonzero)"
      ]
    },
    {
      "cell_type": "code",
      "execution_count": 14,
      "metadata": {
        "id": "psIGoKGiyL2D",
        "outputId": "8b74d678-5cde-45ca-a4d2-7c9eeca20ed7",
        "colab": {
          "base_uri": "https://localhost:8080/"
        }
      },
      "outputs": [
        {
          "output_type": "execute_result",
          "data": {
            "text/plain": [
              "(array([0, 1, 4]),)"
            ]
          },
          "metadata": {},
          "execution_count": 14
        }
      ],
      "source": [
        "arr=[1,2,0,0,4,0]\n",
        "np.nonzero(arr)"
      ]
    },
    {
      "cell_type": "markdown",
      "metadata": {
        "id": "pNs0NsMdyL2D"
      },
      "source": [
        "#### 11. Create a 3x3 identity matrix (★☆☆) \n",
        "(**hint**: np.eye)"
      ]
    },
    {
      "cell_type": "code",
      "execution_count": 15,
      "metadata": {
        "id": "j35o8YsByL2E",
        "outputId": "8e2584b2-d3d3-4146-cd46-1f6749dcfb59",
        "colab": {
          "base_uri": "https://localhost:8080/"
        }
      },
      "outputs": [
        {
          "output_type": "execute_result",
          "data": {
            "text/plain": [
              "array([[1., 0., 0.],\n",
              "       [0., 1., 0.],\n",
              "       [0., 0., 1.]])"
            ]
          },
          "metadata": {},
          "execution_count": 15
        }
      ],
      "source": [
        "z=np.eye(3)\n",
        "z"
      ]
    },
    {
      "cell_type": "markdown",
      "metadata": {
        "id": "cTD1IsUdyL2E"
      },
      "source": [
        "#### 12. Create a 3x3x3 array with random values (★☆☆) \n",
        "(**hint**: np.random.random)"
      ]
    },
    {
      "cell_type": "code",
      "execution_count": 19,
      "metadata": {
        "collapsed": true,
        "id": "_I9gZNgbyL2E",
        "outputId": "81651755-2777-4a47-db9d-751481f4be77",
        "colab": {
          "base_uri": "https://localhost:8080/"
        }
      },
      "outputs": [
        {
          "output_type": "execute_result",
          "data": {
            "text/plain": [
              "array([[[0.7630024 , 0.98694218, 0.5768314 ],\n",
              "        [0.47700372, 0.45546807, 0.2587779 ],\n",
              "        [0.59371963, 0.21654255, 0.43376753]],\n",
              "\n",
              "       [[0.57901907, 0.4169738 , 0.9129893 ],\n",
              "        [0.110471  , 0.60698625, 0.03791718],\n",
              "        [0.61927027, 0.57890868, 0.64344722]],\n",
              "\n",
              "       [[0.40833198, 0.00531964, 0.21192571],\n",
              "        [0.7907065 , 0.86552651, 0.79894001],\n",
              "        [0.60449665, 0.09835314, 0.87131889]]])"
            ]
          },
          "metadata": {},
          "execution_count": 19
        }
      ],
      "source": [
        "x=np.random.random((3,3,3))\n",
        "x"
      ]
    },
    {
      "cell_type": "markdown",
      "metadata": {
        "id": "vyfCo4MGyL2F"
      },
      "source": [
        "#### 13. Create a 10x10 array with random values and find the minimum and maximum values (★☆☆) \n",
        "(**hint**: min, max)"
      ]
    },
    {
      "cell_type": "code",
      "execution_count": 22,
      "metadata": {
        "id": "5YBg4PexyL2F",
        "outputId": "db0840df-7720-40e9-f4ff-79b4afe597a4",
        "colab": {
          "base_uri": "https://localhost:8080/"
        }
      },
      "outputs": [
        {
          "output_type": "stream",
          "name": "stdout",
          "text": [
            "[[7.57935894e-01 3.29088865e-01 4.97315035e-01 7.18069918e-01\n",
            "  5.46775158e-01 9.22353210e-01 9.37052366e-01 4.53805030e-01\n",
            "  4.64015111e-01 8.82673080e-02]\n",
            " [4.12213960e-01 3.45258931e-01 9.12958289e-01 9.75384893e-01\n",
            "  6.60935200e-01 5.02843252e-01 8.74644871e-01 6.21598977e-01\n",
            "  6.85516158e-01 9.86051397e-01]\n",
            " [8.62727613e-01 3.31208387e-01 3.64758030e-01 5.13401316e-01\n",
            "  7.95240959e-02 6.90547870e-02 5.93250403e-01 2.53184555e-01\n",
            "  5.88386119e-01 3.25527039e-01]\n",
            " [5.73060925e-01 3.93073778e-01 4.43692430e-01 7.79450844e-01\n",
            "  9.32989971e-01 8.86656753e-01 9.31408133e-01 1.38234632e-01\n",
            "  3.08341764e-01 3.99791072e-01]\n",
            " [5.77445360e-01 2.86147942e-01 5.29898222e-01 3.93962276e-01\n",
            "  4.08395362e-01 2.95139215e-01 2.99525173e-01 3.41153415e-01\n",
            "  5.03416121e-01 7.65500895e-01]\n",
            " [2.50221190e-02 2.02916797e-01 4.15580075e-01 8.24232419e-01\n",
            "  9.09047246e-01 2.89588572e-02 6.08460556e-02 1.50274468e-01\n",
            "  7.85748262e-02 2.50895150e-01]\n",
            " [6.69536494e-01 7.99038140e-01 7.47197552e-01 5.42737304e-01\n",
            "  1.00063720e-01 9.00648551e-01 6.30746967e-01 1.72151880e-01\n",
            "  1.17376739e-01 9.95029355e-01]\n",
            " [2.97040592e-01 9.94277083e-01 6.64719652e-01 6.06350641e-01\n",
            "  9.58862147e-01 4.18301798e-01 9.21112873e-01 3.97664453e-01\n",
            "  9.95889844e-01 1.57674130e-01]\n",
            " [4.98209567e-06 5.01884658e-01 5.98757417e-01 2.85020079e-01\n",
            "  7.77540047e-01 8.21236478e-02 8.89012562e-01 4.99915792e-01\n",
            "  5.97543365e-01 9.28586578e-01]\n",
            " [2.73130778e-01 3.31639742e-01 9.23582778e-01 4.58892674e-01\n",
            "  9.96676902e-01 3.26258099e-01 3.94211577e-01 6.92521198e-01\n",
            "  1.89365936e-01 5.96988674e-01]]\n",
            "4.982095665240216e-06 0.9966769018564237\n"
          ]
        }
      ],
      "source": [
        "x=np.random.random((10,10))\n",
        "y,z=x.min(),x.max()\n",
        "print(x)\n",
        "print(y,z)"
      ]
    },
    {
      "cell_type": "markdown",
      "metadata": {
        "id": "N_2A7Ot9yL2G"
      },
      "source": [
        "#### 14. Create a random vector of size 30 and find the mean value (★☆☆) \n",
        "(**hint**: mean)"
      ]
    },
    {
      "cell_type": "code",
      "execution_count": 23,
      "metadata": {
        "id": "oaKiQbrgyL2H",
        "outputId": "f297ad88-acb9-474c-85a5-265ec6788553",
        "colab": {
          "base_uri": "https://localhost:8080/"
        }
      },
      "outputs": [
        {
          "output_type": "stream",
          "name": "stdout",
          "text": [
            "[0.79181863 0.76265251 0.72574137 0.1469166  0.61465076 0.63209932\n",
            " 0.62985159 0.52133687 0.38983689 0.71064422 0.29172637 0.31529175\n",
            " 0.92457486 0.52352603 0.67785457 0.20725836 0.84219268 0.55652016\n",
            " 0.2534442  0.16322928 0.72537437 0.0576539  0.41945012 0.17402378\n",
            " 0.93125257 0.05586798 0.12170058 0.97136998 0.34652887 0.69078605]\n",
            "0.5058391735181457\n"
          ]
        }
      ],
      "source": [
        "x=np.random.random(30)\n",
        "print(x)\n",
        "print(x.mean())"
      ]
    },
    {
      "cell_type": "markdown",
      "metadata": {
        "id": "BGPyfotnyL2H"
      },
      "source": [
        "#### 15. Create a 2d array with 1 on the border and 0 inside (★☆☆) \n",
        "(**hint**: array\\[1:-1, 1:-1\\])"
      ]
    },
    {
      "cell_type": "code",
      "execution_count": 24,
      "metadata": {
        "id": "zs-1Qdf4yL2I",
        "outputId": "6e4567c4-e682-4690-d237-17e691750fe4",
        "colab": {
          "base_uri": "https://localhost:8080/"
        }
      },
      "outputs": [
        {
          "output_type": "stream",
          "name": "stdout",
          "text": [
            "[[1. 1. 1. 1. 1. 1.]\n",
            " [1. 0. 0. 0. 0. 1.]\n",
            " [1. 0. 0. 0. 0. 1.]\n",
            " [1. 0. 0. 0. 0. 1.]\n",
            " [1. 1. 1. 1. 1. 1.]]\n"
          ]
        }
      ],
      "source": [
        "x=np.ones(30).reshape(5,6)\n",
        "x[1:-1,1:-1]=0\n",
        "print(x)"
      ]
    },
    {
      "cell_type": "markdown",
      "metadata": {
        "id": "iGlc23yDyL2I"
      },
      "source": [
        "#### 16. How to add a border (filled with 0's) around an existing array? (★☆☆) \n",
        "(**hint**: np.pad)"
      ]
    },
    {
      "cell_type": "code",
      "execution_count": 25,
      "metadata": {
        "id": "nK-zPY3ryL2J",
        "outputId": "8894fbc5-572a-4240-e57b-8c36b0d94118",
        "colab": {
          "base_uri": "https://localhost:8080/"
        }
      },
      "outputs": [
        {
          "output_type": "stream",
          "name": "stdout",
          "text": [
            "[[0. 0. 0. 0. 0.]\n",
            " [0. 1. 1. 1. 0.]\n",
            " [0. 1. 1. 1. 0.]\n",
            " [0. 1. 1. 1. 0.]\n",
            " [0. 0. 0. 0. 0.]]\n"
          ]
        }
      ],
      "source": [
        "x=np.ones((3,3))\n",
        "x=np.pad(x,pad_width=1,mode=\"constant\",constant_values=0)\n",
        "print(x)"
      ]
    },
    {
      "cell_type": "markdown",
      "metadata": {
        "id": "VzX5NM78yL2J"
      },
      "source": [
        "#### 17. What is the result of the following expression? (★☆☆) \n",
        "(**hint**: NaN = not a number, inf = infinity)"
      ]
    },
    {
      "cell_type": "markdown",
      "metadata": {
        "id": "tlymUcaiyL2J"
      },
      "source": [
        "```python\n",
        "0 * np.nan\n",
        "np.nan == np.nan\n",
        "np.inf > np.nan\n",
        "np.nan - np.nan\n",
        "0.3 == 3 * 0.1\n",
        "```"
      ]
    },
    {
      "cell_type": "code",
      "execution_count": 29,
      "metadata": {
        "id": "xuNgXISHyL2L",
        "outputId": "bf1a8ee6-9cd5-4aac-ec74-299c4155e265",
        "colab": {
          "base_uri": "https://localhost:8080/"
        }
      },
      "outputs": [
        {
          "output_type": "stream",
          "name": "stdout",
          "text": [
            "nan\n",
            "False\n",
            "False\n",
            "nan\n",
            "False\n"
          ]
        }
      ],
      "source": [
        "print(\"nan\")\n",
        "print(False)\n",
        "print(False)\n",
        "print(\"nan\")\n",
        "print(False)"
      ]
    },
    {
      "cell_type": "markdown",
      "metadata": {
        "id": "1gaRVmAUyL2L"
      },
      "source": [
        "#### 18. Create a 5x5 matrix with values 1,2,3,4 just below the diagonal (★☆☆) \n",
        "(**hint**: np.diag)"
      ]
    },
    {
      "cell_type": "code",
      "execution_count": 27,
      "metadata": {
        "id": "hsmMeFIXyL2M",
        "outputId": "d91d6375-efcf-4d92-baf3-3e51f8851d2e",
        "colab": {
          "base_uri": "https://localhost:8080/"
        }
      },
      "outputs": [
        {
          "output_type": "execute_result",
          "data": {
            "text/plain": [
              "array([[0, 0, 0, 0, 0],\n",
              "       [1, 0, 0, 0, 0],\n",
              "       [0, 2, 0, 0, 0],\n",
              "       [0, 0, 3, 0, 0],\n",
              "       [0, 0, 0, 4, 0]])"
            ]
          },
          "metadata": {},
          "execution_count": 27
        }
      ],
      "source": [
        "x=np.diag([1,2,3,4],k=-1)\n",
        "x"
      ]
    },
    {
      "cell_type": "markdown",
      "metadata": {
        "id": "2Qnfyf5nyL2M"
      },
      "source": [
        "#### 19. Create a 8x8 matrix and fill it with a checkerboard pattern (★☆☆) \n",
        "(**hint**: array\\[::2\\])"
      ]
    },
    {
      "cell_type": "code",
      "execution_count": 28,
      "metadata": {
        "id": "jZtES3RDyL2N",
        "outputId": "d74a336d-69cd-4595-e37f-9d674059bc08",
        "colab": {
          "base_uri": "https://localhost:8080/"
        }
      },
      "outputs": [
        {
          "output_type": "stream",
          "name": "stdout",
          "text": [
            "[[0 1 0 1 0 1 0 1]\n",
            " [1 0 1 0 1 0 1 0]\n",
            " [0 1 0 1 0 1 0 1]\n",
            " [1 0 1 0 1 0 1 0]\n",
            " [0 1 0 1 0 1 0 1]\n",
            " [1 0 1 0 1 0 1 0]\n",
            " [0 1 0 1 0 1 0 1]\n",
            " [1 0 1 0 1 0 1 0]]\n"
          ]
        }
      ],
      "source": [
        "x=np.ones((3,3))\n",
        "x=np.zeros((8,8),dtype=int)\n",
        "x[1::2,::2]=1\n",
        "x[::2,1::2]=1\n",
        "print(x)"
      ]
    },
    {
      "cell_type": "markdown",
      "metadata": {
        "id": "x-rNU14lyL2O"
      },
      "source": [
        "#### 20. Consider a (6,7,8) shape array, what is the index (x,y,z) of the 100th element? \n",
        "(**hint**: np.unravel_index)"
      ]
    },
    {
      "cell_type": "code",
      "execution_count": 30,
      "metadata": {
        "id": "L9szjJGDyL2P",
        "outputId": "2e6de1d8-3662-46b4-d673-005b01e3eae4",
        "colab": {
          "base_uri": "https://localhost:8080/"
        }
      },
      "outputs": [
        {
          "output_type": "stream",
          "name": "stdout",
          "text": [
            "(1, 5, 4)\n"
          ]
        }
      ],
      "source": [
        "print(np.unravel_index(100,(6,7,8)))"
      ]
    },
    {
      "cell_type": "markdown",
      "metadata": {
        "id": "v7Wo6J05yL2P"
      },
      "source": [
        "#### 21. Create a checkerboard 8x8 matrix using the tile function (★☆☆) \n",
        "(**hint**: np.tile)"
      ]
    },
    {
      "cell_type": "code",
      "execution_count": 34,
      "metadata": {
        "id": "q2kSxDOzyL2Q",
        "outputId": "03fa4278-990f-40d1-d322-f7845063c93d",
        "colab": {
          "base_uri": "https://localhost:8080/"
        }
      },
      "outputs": [
        {
          "output_type": "execute_result",
          "data": {
            "text/plain": [
              "array([[0, 1, 0, 1, 0, 1, 0, 1],\n",
              "       [1, 0, 1, 0, 1, 0, 1, 0],\n",
              "       [0, 1, 0, 1, 0, 1, 0, 1],\n",
              "       [1, 0, 1, 0, 1, 0, 1, 0],\n",
              "       [0, 1, 0, 1, 0, 1, 0, 1],\n",
              "       [1, 0, 1, 0, 1, 0, 1, 0],\n",
              "       [0, 1, 0, 1, 0, 1, 0, 1],\n",
              "       [1, 0, 1, 0, 1, 0, 1, 0]])"
            ]
          },
          "metadata": {},
          "execution_count": 34
        }
      ],
      "source": [
        "x=np.tile(np.array([[0,1],[1,0]]),(4,4))\n",
        "x"
      ]
    },
    {
      "cell_type": "markdown",
      "metadata": {
        "id": "q0ZNIX7ZyL2Q"
      },
      "source": [
        "#### 22. Normalize a 5x5 random matrix (★☆☆) \n",
        "(**hint**: (x - min) / (max - min))"
      ]
    },
    {
      "cell_type": "code",
      "execution_count": 37,
      "metadata": {
        "id": "VIg7DsB2yL2Q",
        "outputId": "ed67bb72-fefb-4f63-f904-f6b637adc59e",
        "colab": {
          "base_uri": "https://localhost:8080/"
        }
      },
      "outputs": [
        {
          "output_type": "stream",
          "name": "stdout",
          "text": [
            "[[-5.03002594e-02 -9.02011924e-01 -3.87386680e+00 -3.16037234e+02\n",
            "  -6.14741802e-01]\n",
            " [            inf -5.47068324e-02 -5.91773411e+00 -9.28499135e-01\n",
            "  -1.69693792e+00]\n",
            " [-3.03962968e+00 -1.60368974e+00 -1.10108950e+00 -8.40527214e-02\n",
            "  -0.00000000e+00]\n",
            " [-1.01612253e+01 -4.80615694e-01 -1.15256060e+00 -1.09306874e-01\n",
            "  -3.03600362e-01]\n",
            " [-5.40745027e-01 -9.81970640e-01 -1.60706460e+00 -1.04379161e+00\n",
            "  -8.74132110e-01]]\n"
          ]
        },
        {
          "output_type": "stream",
          "name": "stderr",
          "text": [
            "/usr/local/lib/python3.7/dist-packages/ipykernel_launcher.py:4: RuntimeWarning: divide by zero encountered in true_divide\n",
            "  after removing the cwd from sys.path.\n"
          ]
        }
      ],
      "source": [
        "x=np.random.random((5,5))\n",
        "y=x-x.min()\n",
        "z=x-x.max()\n",
        "print(y/z)"
      ]
    },
    {
      "cell_type": "markdown",
      "metadata": {
        "id": "T9XqRPdgyL2R"
      },
      "source": [
        "#### 23. Create a custom dtype that describes a color as four unsigned bytes (RGBA) (★☆☆) \n",
        "(**hint**: np.dtype)"
      ]
    },
    {
      "cell_type": "code",
      "execution_count": 41,
      "metadata": {
        "collapsed": true,
        "id": "H9c3FU-xyL2R",
        "outputId": "5347a4a6-5410-4625-c08c-d5321078c5fe",
        "colab": {
          "base_uri": "https://localhost:8080/"
        }
      },
      "outputs": [
        {
          "output_type": "stream",
          "name": "stdout",
          "text": [
            "1\n"
          ]
        },
        {
          "output_type": "execute_result",
          "data": {
            "text/plain": [
              "numpy.ndarray"
            ]
          },
          "metadata": {},
          "execution_count": 41
        }
      ],
      "source": [
        "RGBA = np.dtype([('red',np.uint8),('green',np.uint8),('blue',np.uint8),('alpha',np.uint8)])\n",
        "color = np.array((1,2,4,3),dtype = RGBA)\n",
        "print(color['red'])\n",
        "type(color)"
      ]
    },
    {
      "cell_type": "markdown",
      "metadata": {
        "id": "06_99vjNyL2R"
      },
      "source": [
        "#### 24. Multiply a 5x3 matrix by a 3x2 matrix (real matrix product) (★☆☆) \n",
        "(**hint**: np.dot | @)"
      ]
    },
    {
      "cell_type": "code",
      "execution_count": 38,
      "metadata": {
        "id": "zGqkQvrtyL2S",
        "outputId": "d2a366fb-11c1-453b-a3bd-7411e5cd4bc8",
        "colab": {
          "base_uri": "https://localhost:8080/"
        }
      },
      "outputs": [
        {
          "output_type": "execute_result",
          "data": {
            "text/plain": [
              "array([[ 9., 12.],\n",
              "       [ 9., 12.],\n",
              "       [ 9., 12.],\n",
              "       [ 9., 12.],\n",
              "       [ 9., 12.]])"
            ]
          },
          "metadata": {},
          "execution_count": 38
        }
      ],
      "source": [
        "x=np.dot(np.ones((5,3)),np.arange(1,7).reshape(3,2))\n",
        "x"
      ]
    },
    {
      "cell_type": "markdown",
      "metadata": {
        "id": "NfnLuRpfyL2S"
      },
      "source": [
        "#### 25. Given a 1D array, negate all elements which are between 3 and 8, in place. (★☆☆) \n",
        "(**hint**: >, <=)"
      ]
    },
    {
      "cell_type": "code",
      "execution_count": 40,
      "metadata": {
        "id": "hGt5wUcPyL2S",
        "outputId": "dfafcef7-c974-4a53-8281-3f78a9fca2d7",
        "colab": {
          "base_uri": "https://localhost:8080/"
        }
      },
      "outputs": [
        {
          "output_type": "execute_result",
          "data": {
            "text/plain": [
              "array([ 1,  2,  3, -4, -5, -6, -7,  8,  9, 10])"
            ]
          },
          "metadata": {},
          "execution_count": 40
        }
      ],
      "source": [
        "x=np.arange(1,11)\n",
        "m=(x>3)&(x<8)\n",
        "x[m]*=-1\n",
        "x"
      ]
    },
    {
      "cell_type": "markdown",
      "metadata": {
        "id": "O7o-np-nyL2T"
      },
      "source": [
        "#### 26. What is the output of the following script? (★☆☆) \n",
        "(**hint**: np.sum)"
      ]
    },
    {
      "cell_type": "markdown",
      "metadata": {
        "id": "rXFPPWtoyL2T"
      },
      "source": [
        "```python\n",
        "# Author: Jake VanderPlas\n",
        "\n",
        "print(sum(range(5),-1))\n",
        "from numpy import *\n",
        "print(sum(range(5),-1))\n",
        "```"
      ]
    },
    {
      "cell_type": "code",
      "execution_count": 5,
      "metadata": {
        "id": "ZKibW0kHyL2T",
        "outputId": "787e6269-0912-4915-9878-8932d00ab470",
        "colab": {
          "base_uri": "https://localhost:8080/"
        }
      },
      "outputs": [
        {
          "output_type": "stream",
          "name": "stdout",
          "text": [
            "10\n",
            "10\n"
          ]
        }
      ],
      "source": [
        "print(10)\n",
        "print(10)"
      ]
    },
    {
      "cell_type": "markdown",
      "metadata": {
        "id": "k0pf-jsgyL2U"
      },
      "source": [
        "#### 27. Consider an integer vector Z, which of these expressions are legal? (★☆☆)"
      ]
    },
    {
      "cell_type": "markdown",
      "metadata": {
        "id": "2cmPMmzPyL2U"
      },
      "source": [
        "```python\n",
        "Z**Z\n",
        "2 << Z >> 2\n",
        "Z <- Z\n",
        "1j*Z\n",
        "Z/1/1\n",
        "Z<Z>Z\n",
        "```"
      ]
    },
    {
      "cell_type": "code",
      "execution_count": 44,
      "metadata": {
        "id": "99Ogcr0EyL2U",
        "outputId": "948047e9-a9c9-4c2a-d960-b0aa043ccf2d",
        "colab": {
          "base_uri": "https://localhost:8080/"
        }
      },
      "outputs": [
        {
          "output_type": "stream",
          "name": "stdout",
          "text": [
            "z<z>z\n"
          ]
        }
      ],
      "source": [
        "print(\"z<z>z\")"
      ]
    },
    {
      "cell_type": "markdown",
      "metadata": {
        "id": "9QORduEeyL2V"
      },
      "source": [
        "#### 28. What are the result of the following expressions?"
      ]
    },
    {
      "cell_type": "markdown",
      "metadata": {
        "id": "iGEHApnbyL2V"
      },
      "source": [
        "```python\n",
        "np.array(0) / np.array(0)\n",
        "np.array(0) // np.array(0)\n",
        "np.array([np.nan]).astype(int).astype(float)\n",
        "```"
      ]
    },
    {
      "cell_type": "code",
      "execution_count": 45,
      "metadata": {
        "id": "xv71F2ePyL2V",
        "outputId": "2748e313-8f88-496e-8547-00cba0b38910",
        "colab": {
          "base_uri": "https://localhost:8080/"
        }
      },
      "outputs": [
        {
          "output_type": "stream",
          "name": "stdout",
          "text": [
            "the first and second expressions results in typeerror\n",
            "[-9.22337204e+18]\n"
          ]
        }
      ],
      "source": [
        "print(\"the first and second expressions results in typeerror\")\n",
        "print(np.array([np.nan]).astype(int).astype(float))"
      ]
    },
    {
      "cell_type": "markdown",
      "metadata": {
        "id": "uJKCx6cpyL2W"
      },
      "source": [
        "#### 29. How to round away from zero a float array ? (★☆☆) \n",
        "(**hint**: np.uniform, np.copysign, np.ceil, np.abs)"
      ]
    },
    {
      "cell_type": "code",
      "execution_count": 47,
      "metadata": {
        "id": "Ji072tL8yL2W",
        "outputId": "ffcb5238-6fc7-48a8-fbb0-77c4e1d01672",
        "colab": {
          "base_uri": "https://localhost:8080/"
        }
      },
      "outputs": [
        {
          "output_type": "stream",
          "name": "stdout",
          "text": [
            "[[0.1  0.09 0.8  0.69 0.59]\n",
            " [0.18 0.65 0.76 0.35 0.3 ]\n",
            " [0.21 0.67 0.3  0.54 0.92]\n",
            " [0.09 0.19 0.31 0.06 0.73]\n",
            " [0.75 0.43 0.07 0.09 0.84]]\n"
          ]
        }
      ],
      "source": [
        "arr = np.random.random((5,5))\n",
        "arr = np.round(arr,2)\n",
        "print(arr) "
      ]
    },
    {
      "cell_type": "markdown",
      "metadata": {
        "id": "TZ7kgnynyL2W"
      },
      "source": [
        "#### 30. How to find common values between two arrays? (★☆☆) \n",
        "(**hint**: np.intersect1d)"
      ]
    },
    {
      "cell_type": "code",
      "execution_count": 48,
      "metadata": {
        "id": "xSlPVRFjyL2W",
        "outputId": "63c9eb07-8174-4c70-9ddf-7b925256fcb8",
        "colab": {
          "base_uri": "https://localhost:8080/"
        }
      },
      "outputs": [
        {
          "output_type": "stream",
          "name": "stdout",
          "text": [
            "[1 3 4]\n"
          ]
        }
      ],
      "source": [
        "ar1 = np.array([0, 1, 2, 3, 4])\n",
        "ar2 = [1, 3, 4]\n",
        "print(np.intersect1d(ar1,ar2))"
      ]
    },
    {
      "cell_type": "markdown",
      "metadata": {
        "id": "iGtxrkoLyL2X"
      },
      "source": [
        "#### 31. How to ignore all numpy warnings (not recommended)? (★☆☆) \n",
        "(**hint**: np.seterr, np.errstate)"
      ]
    },
    {
      "cell_type": "code",
      "execution_count": 49,
      "metadata": {
        "id": "XTZ2CQ0QyL2X"
      },
      "outputs": [],
      "source": [
        "# # Suicide mode on\n",
        "# defaults = np.seterr(all=\"ignore\")\n",
        "# Z = np.ones(1) / 0\n",
        "\n",
        "# # Back to sanity\n",
        "# _ = np.seterr(**defaults)\n",
        "\n",
        "# An equivalent way, with a context manager:\n",
        "\n",
        "# with np.errstate(divide='ignore'):\n",
        "#     Z = np.ones(1) / 0"
      ]
    },
    {
      "cell_type": "markdown",
      "metadata": {
        "id": "Qy_KOieeyL2X"
      },
      "source": [
        "#### 32. Is the following expressions true? (★☆☆) \n",
        "(**hint**: imaginary number)"
      ]
    },
    {
      "cell_type": "markdown",
      "metadata": {
        "id": "JE949embyL2Y"
      },
      "source": [
        "```python\n",
        "np.sqrt(-1) == np.emath.sqrt(-1)\n",
        "```"
      ]
    },
    {
      "cell_type": "code",
      "execution_count": 50,
      "metadata": {
        "id": "8IAT4EqPyL2f",
        "outputId": "bb9871ef-17ed-48e4-993f-eb8a690a398c",
        "colab": {
          "base_uri": "https://localhost:8080/"
        }
      },
      "outputs": [
        {
          "output_type": "execute_result",
          "data": {
            "text/plain": [
              "False"
            ]
          },
          "metadata": {},
          "execution_count": 50
        }
      ],
      "source": [
        "False"
      ]
    },
    {
      "cell_type": "markdown",
      "metadata": {
        "id": "fDD-N6HByL2f"
      },
      "source": [
        "#### 33. How to get the dates of yesterday, today and tomorrow? (★☆☆) \n",
        "(**hint**: np.datetime64, np.timedelta64)"
      ]
    },
    {
      "cell_type": "code",
      "execution_count": 4,
      "metadata": {
        "collapsed": true,
        "id": "2eImWOduyL2f",
        "outputId": "bf0b59f7-9f0b-42cb-ee70-36ac60b041f3",
        "colab": {
          "base_uri": "https://localhost:8080/"
        }
      },
      "outputs": [
        {
          "output_type": "stream",
          "name": "stdout",
          "text": [
            "2022-06-29 2022-06-30 2022-07-01\n"
          ]
        }
      ],
      "source": [
        "yesterday = np.datetime64('today', 'D') - np.timedelta64(1, 'D')\n",
        "today     = np.datetime64('today', 'D')\n",
        "tomorrow  = np.datetime64('today', 'D') + np.timedelta64(1, 'D')\n",
        "print(yesterday,today,tomorrow)"
      ]
    },
    {
      "cell_type": "markdown",
      "metadata": {
        "id": "8YEuMnfvyL2g"
      },
      "source": [
        "#### 34. How to get all the dates corresponding to the month of July 2016? (★★☆) \n",
        "(**hint**: np.arange(dtype=datetime64\\['D'\\]))"
      ]
    },
    {
      "cell_type": "code",
      "execution_count": 52,
      "metadata": {
        "id": "OnYKXC5cyL2g",
        "outputId": "6352d9d2-8f27-4ac3-9d7c-dc84f8b3d548",
        "colab": {
          "base_uri": "https://localhost:8080/"
        }
      },
      "outputs": [
        {
          "output_type": "stream",
          "name": "stdout",
          "text": [
            "['2016-07-01' '2016-07-02' '2016-07-03' '2016-07-04' '2016-07-05'\n",
            " '2016-07-06' '2016-07-07' '2016-07-08' '2016-07-09' '2016-07-10'\n",
            " '2016-07-11' '2016-07-12' '2016-07-13' '2016-07-14' '2016-07-15'\n",
            " '2016-07-16' '2016-07-17' '2016-07-18' '2016-07-19' '2016-07-20'\n",
            " '2016-07-21' '2016-07-22' '2016-07-23' '2016-07-24' '2016-07-25'\n",
            " '2016-07-26' '2016-07-27' '2016-07-28' '2016-07-29' '2016-07-30'\n",
            " '2016-07-31']\n"
          ]
        }
      ],
      "source": [
        "Z = np.arange('2016-07', '2016-08', dtype='datetime64[D]')\n",
        "print(Z)"
      ]
    },
    {
      "cell_type": "markdown",
      "metadata": {
        "id": "kkp_WCU1yL2g"
      },
      "source": [
        "#### 35. How to compute ((A+B)\\*(-A/2)) in place (without copy)? (★★☆) \n",
        "(**hint**: np.add(out=), np.negative(out=), np.multiply(out=), np.divide(out=))"
      ]
    },
    {
      "cell_type": "code",
      "execution_count": 53,
      "metadata": {
        "id": "SBd8UeUCyL2h",
        "outputId": "213e3e32-811c-4f04-d622-05f21a6c6cdd",
        "colab": {
          "base_uri": "https://localhost:8080/"
        }
      },
      "outputs": [
        {
          "output_type": "execute_result",
          "data": {
            "text/plain": [
              "-4.5"
            ]
          },
          "metadata": {},
          "execution_count": 53
        }
      ],
      "source": [
        "A = np.ones(3)*1\n",
        "B = np.ones(3)*2\n",
        "C = np.ones(3)*3\n",
        "np.add(A,B,out=B)\n",
        "np.divide(A,2,out=A)\n",
        "np.negative(A,out=A)\n",
        "np.dot(A,B)"
      ]
    },
    {
      "cell_type": "markdown",
      "metadata": {
        "id": "uRusYqHayL2h"
      },
      "source": [
        "#### 36. Extract the integer part of a random array using 5 different methods (★★☆) \n",
        "(**hint**: %, np.floor, np.ceil, astype, np.trunc)"
      ]
    },
    {
      "cell_type": "code",
      "execution_count": 54,
      "metadata": {
        "id": "wzWXGBkAyL2h",
        "outputId": "a2cea194-f100-47a0-cef9-13e1bc54f30c",
        "colab": {
          "base_uri": "https://localhost:8080/"
        }
      },
      "outputs": [
        {
          "output_type": "stream",
          "name": "stdout",
          "text": [
            "[1. 4. 1. 0. 0. 5. 1. 5. 5. 9.]\n",
            "[1. 4. 1. 0. 0. 5. 1. 5. 5. 9.]\n",
            "[1. 4. 1. 0. 0. 5. 1. 5. 5. 9.]\n",
            "[1 4 1 0 0 5 1 5 5 9]\n"
          ]
        }
      ],
      "source": [
        "Z = np.random.uniform(0,10,10)\n",
        "\n",
        "print (Z - Z%1)\n",
        "print (np.floor(Z))\n",
        "print (np.ceil(Z)-1)\n",
        "print (Z.astype(int))"
      ]
    },
    {
      "cell_type": "markdown",
      "metadata": {
        "id": "Ztid6yINyL2h"
      },
      "source": [
        "#### 37. Create a 5x5 matrix with row values ranging from 0 to 4 (★★☆) \n",
        "(**hint**: np.arange)"
      ]
    },
    {
      "cell_type": "code",
      "execution_count": 55,
      "metadata": {
        "id": "wSmJXTHVyL2i",
        "outputId": "dfaf3a6b-cfb0-47ca-e575-2b5a9d86b25c",
        "colab": {
          "base_uri": "https://localhost:8080/"
        }
      },
      "outputs": [
        {
          "output_type": "execute_result",
          "data": {
            "text/plain": [
              "array([[0., 1., 2., 3., 4.],\n",
              "       [0., 1., 2., 3., 4.],\n",
              "       [0., 1., 2., 3., 4.],\n",
              "       [0., 1., 2., 3., 4.],\n",
              "       [0., 1., 2., 3., 4.]])"
            ]
          },
          "metadata": {},
          "execution_count": 55
        }
      ],
      "source": [
        "x=np.zeros(25).reshape(5,5)\n",
        "x+=np.arange(5)\n",
        "x"
      ]
    },
    {
      "cell_type": "markdown",
      "metadata": {
        "id": "oxmfm--CyL2i"
      },
      "source": [
        "#### 38. Consider a generator function that generates 10 integers and use it to build an array (★☆☆) \n",
        "(**hint**: np.fromiter)"
      ]
    },
    {
      "cell_type": "code",
      "execution_count": 7,
      "metadata": {
        "id": "w5px5ekSyL2i",
        "outputId": "7ff414bd-d25c-4930-babc-d15df557099d",
        "colab": {
          "base_uri": "https://localhost:8080/"
        }
      },
      "outputs": [
        {
          "output_type": "stream",
          "name": "stdout",
          "text": [
            "[0. 1. 2. 3. 4. 5. 6. 7. 8. 9.]\n"
          ]
        }
      ],
      "source": [
        "def gen():\n",
        "  for ele in range(10):\n",
        "    yield ele\n",
        "x=np.fromiter(gen(),dtype=float,count=-1)\n",
        "print(x)   "
      ]
    },
    {
      "cell_type": "markdown",
      "metadata": {
        "id": "HyzgLLqhyL2j"
      },
      "source": [
        "#### 39. Create a vector of size 10 with values ranging from 0 to 1, both excluded (★★☆) \n",
        "(**hint**: np.linspace)"
      ]
    },
    {
      "cell_type": "code",
      "execution_count": 8,
      "metadata": {
        "id": "DjMJMWKEyL2j",
        "outputId": "cbe82a7e-f709-4f89-c2f8-edc24c2005b3",
        "colab": {
          "base_uri": "https://localhost:8080/"
        }
      },
      "outputs": [
        {
          "output_type": "stream",
          "name": "stdout",
          "text": [
            "[0.09090909 0.18181818 0.27272727 0.36363636 0.45454545 0.54545455\n",
            " 0.63636364 0.72727273 0.81818182 0.90909091]\n"
          ]
        }
      ],
      "source": [
        "x = np.linspace(0,1,11,endpoint=False)[1:]\n",
        "print(x)"
      ]
    },
    {
      "cell_type": "markdown",
      "metadata": {
        "id": "2Ae7Y41oyL2j"
      },
      "source": [
        "#### 40. Create a random vector of size 10 and sort it (★★☆) \n",
        "(**hint**: sort)"
      ]
    },
    {
      "cell_type": "code",
      "execution_count": 12,
      "metadata": {
        "id": "eze3nwBbyL2j",
        "outputId": "abf25560-7e9f-4a22-8256-1398d302a512",
        "colab": {
          "base_uri": "https://localhost:8080/"
        }
      },
      "outputs": [
        {
          "output_type": "stream",
          "name": "stdout",
          "text": [
            "[0.33044024 0.41241891 0.60096277 0.67411646 0.68002776 0.71875357\n",
            " 0.77422009 0.79875084 0.84218485 0.89290296]\n"
          ]
        }
      ],
      "source": [
        "x=np.random.random(10)\n",
        "x.sort()\n",
        "print(x)"
      ]
    },
    {
      "cell_type": "markdown",
      "metadata": {
        "id": "XRHfOSMlyL2k"
      },
      "source": [
        "#### 41. How to sum a small array faster than np.sum? (★★☆) \n",
        "(**hint**: np.add.reduce)"
      ]
    },
    {
      "cell_type": "code",
      "execution_count": 13,
      "metadata": {
        "id": "XTv4sPG-yL2k",
        "outputId": "4e3590e4-b572-4b0b-a6b2-911d573d40b7",
        "colab": {
          "base_uri": "https://localhost:8080/"
        }
      },
      "outputs": [
        {
          "output_type": "execute_result",
          "data": {
            "text/plain": [
              "45"
            ]
          },
          "metadata": {},
          "execution_count": 13
        }
      ],
      "source": [
        "import functools as ft\n",
        "Z = np.arange(10)\n",
        "np.add.reduce(Z)"
      ]
    },
    {
      "cell_type": "markdown",
      "metadata": {
        "id": "0nwkx36syL2k"
      },
      "source": [
        "#### 42. Consider two random array A and B, check if they are equal (★★☆) \n",
        "(**hint**: np.allclose, np.array\\_equal)"
      ]
    },
    {
      "cell_type": "code",
      "execution_count": 14,
      "metadata": {
        "id": "VgF8E-6eyL2l",
        "outputId": "e8995098-fdc9-45f4-9510-2810f6b4f9c8",
        "colab": {
          "base_uri": "https://localhost:8080/"
        }
      },
      "outputs": [
        {
          "output_type": "stream",
          "name": "stdout",
          "text": [
            "False\n",
            "False\n"
          ]
        }
      ],
      "source": [
        "A=np.random.randint(10,15,5)\n",
        "B=np.random.randint(10,15,5)\n",
        "eq=np.allclose(A,B)\n",
        "print(eq)\n",
        "print(np.array_equal(A,B))"
      ]
    },
    {
      "cell_type": "markdown",
      "metadata": {
        "id": "uv_q81IDyL2l"
      },
      "source": [
        "#### 43. Make an array immutable (read-only) (★★☆) \n",
        "(**hint**: flags.writeable)"
      ]
    },
    {
      "cell_type": "code",
      "execution_count": 16,
      "metadata": {
        "id": "x8_o1cxWyL2l",
        "outputId": "a3ffc270-3427-4885-8171-c04af9561373",
        "colab": {
          "base_uri": "https://localhost:8080/",
          "height": 217
        }
      },
      "outputs": [
        {
          "output_type": "error",
          "ename": "ValueError",
          "evalue": "ignored",
          "traceback": [
            "\u001b[0;31m---------------------------------------------------------------------------\u001b[0m",
            "\u001b[0;31mValueError\u001b[0m                                Traceback (most recent call last)",
            "\u001b[0;32m<ipython-input-16-a491cc8cabc6>\u001b[0m in \u001b[0;36m<module>\u001b[0;34m()\u001b[0m\n\u001b[1;32m      1\u001b[0m \u001b[0mx\u001b[0m\u001b[0;34m=\u001b[0m\u001b[0mnp\u001b[0m\u001b[0;34m.\u001b[0m\u001b[0marange\u001b[0m\u001b[0;34m(\u001b[0m\u001b[0;36m10\u001b[0m\u001b[0;34m)\u001b[0m\u001b[0;34m\u001b[0m\u001b[0;34m\u001b[0m\u001b[0m\n\u001b[1;32m      2\u001b[0m \u001b[0mx\u001b[0m\u001b[0;34m.\u001b[0m\u001b[0mflags\u001b[0m\u001b[0;34m.\u001b[0m\u001b[0mwriteable\u001b[0m\u001b[0;34m=\u001b[0m\u001b[0;32mFalse\u001b[0m\u001b[0;34m\u001b[0m\u001b[0;34m\u001b[0m\u001b[0m\n\u001b[0;32m----> 3\u001b[0;31m \u001b[0mx\u001b[0m\u001b[0;34m[\u001b[0m\u001b[0;36m3\u001b[0m\u001b[0;34m]\u001b[0m\u001b[0;34m=\u001b[0m\u001b[0;36m15\u001b[0m\u001b[0;34m\u001b[0m\u001b[0;34m\u001b[0m\u001b[0m\n\u001b[0m\u001b[1;32m      4\u001b[0m \u001b[0mprint\u001b[0m\u001b[0;34m(\u001b[0m\u001b[0mx\u001b[0m\u001b[0;34m)\u001b[0m\u001b[0;34m\u001b[0m\u001b[0;34m\u001b[0m\u001b[0m\n",
            "\u001b[0;31mValueError\u001b[0m: assignment destination is read-only"
          ]
        }
      ],
      "source": [
        "x=np.arange(10)\n",
        "x.flags.writeable=False\n",
        "x[3]=15\n",
        "print(x)\n",
        "#gives valueerror because we have set x.flags.writeable is False"
      ]
    },
    {
      "cell_type": "markdown",
      "metadata": {
        "id": "8Tqn6EXqyL2l"
      },
      "source": [
        "#### 44. Consider a random 10x2 matrix representing cartesian coordinates, convert them to polar coordinates (★★☆) \n",
        "(**hint**: np.sqrt, np.arctan2)"
      ]
    },
    {
      "cell_type": "code",
      "execution_count": 17,
      "metadata": {
        "id": "9CqOwBBwyL2m",
        "outputId": "3481003e-cb7f-4272-f4e5-c35022f2af83",
        "colab": {
          "base_uri": "https://localhost:8080/"
        }
      },
      "outputs": [
        {
          "output_type": "stream",
          "name": "stdout",
          "text": [
            "[[3.60555128 0.98279372]\n",
            " [3.         1.57079633]\n",
            " [8.54400375 1.21202566]\n",
            " [8.         1.57079633]\n",
            " [4.         1.57079633]\n",
            " [3.         0.        ]\n",
            " [4.47213595 1.10714872]\n",
            " [7.21110255 0.98279372]\n",
            " [8.06225775 1.05165021]\n",
            " [9.89949494 0.78539816]]\n"
          ]
        }
      ],
      "source": [
        "z= np.random.randint(0,9,(10,2))\n",
        "x,y = z[:,0], z[:,1]\n",
        "r = np.sqrt(x**2+y**2)\n",
        "t = np.arctan2(y,x)\n",
        "poles = np.c_[r,t]\n",
        "print(poles)"
      ]
    },
    {
      "cell_type": "markdown",
      "metadata": {
        "id": "s8BMiYEuyL2m"
      },
      "source": [
        "#### 45. Create random vector of size 10 and replace the maximum value by 0 (★★☆) \n",
        "(**hint**: argmax)"
      ]
    },
    {
      "cell_type": "code",
      "execution_count": 18,
      "metadata": {
        "id": "LU-dGpjOyL2n",
        "outputId": "cb56b2f9-151b-409f-ee60-f57eac0d433f",
        "colab": {
          "base_uri": "https://localhost:8080/"
        }
      },
      "outputs": [
        {
          "output_type": "stream",
          "name": "stdout",
          "text": [
            "[0.59045416 0.07021104 0.16070216 0.2219521  0.15234363 0.77794259\n",
            " 0.93302381 0.88766029 0.72735602 0.59879157]\n",
            "[0.59045416 0.07021104 0.16070216 0.2219521  0.15234363 0.77794259\n",
            " 0.         0.88766029 0.72735602 0.59879157]\n"
          ]
        }
      ],
      "source": [
        "ar1 = np.random.random(10)\n",
        "print(ar1)\n",
        "ar1[ar1.argmax()] = 0\n",
        "print(ar1)"
      ]
    },
    {
      "cell_type": "markdown",
      "metadata": {
        "id": "RBc8uOrwyL2n"
      },
      "source": [
        "#### 46. Create a structured array with `x` and `y` coordinates covering the \\[0,1\\]x\\[0,1\\] area (★★☆) \n",
        "(**hint**: np.meshgrid)"
      ]
    },
    {
      "cell_type": "code",
      "execution_count": 19,
      "metadata": {
        "id": "Oizjzr80yL2o",
        "outputId": "09682b46-8beb-4565-edd0-689da66c5009",
        "colab": {
          "base_uri": "https://localhost:8080/"
        }
      },
      "outputs": [
        {
          "output_type": "stream",
          "name": "stdout",
          "text": [
            "[[(0.        , 0.        ) (0.11111111, 0.        )\n",
            "  (0.22222222, 0.        ) (0.33333333, 0.        )\n",
            "  (0.44444444, 0.        ) (0.55555556, 0.        )\n",
            "  (0.66666667, 0.        ) (0.77777778, 0.        )\n",
            "  (0.88888889, 0.        ) (1.        , 0.        )]\n",
            " [(0.        , 0.11111111) (0.11111111, 0.11111111)\n",
            "  (0.22222222, 0.11111111) (0.33333333, 0.11111111)\n",
            "  (0.44444444, 0.11111111) (0.55555556, 0.11111111)\n",
            "  (0.66666667, 0.11111111) (0.77777778, 0.11111111)\n",
            "  (0.88888889, 0.11111111) (1.        , 0.11111111)]\n",
            " [(0.        , 0.22222222) (0.11111111, 0.22222222)\n",
            "  (0.22222222, 0.22222222) (0.33333333, 0.22222222)\n",
            "  (0.44444444, 0.22222222) (0.55555556, 0.22222222)\n",
            "  (0.66666667, 0.22222222) (0.77777778, 0.22222222)\n",
            "  (0.88888889, 0.22222222) (1.        , 0.22222222)]\n",
            " [(0.        , 0.33333333) (0.11111111, 0.33333333)\n",
            "  (0.22222222, 0.33333333) (0.33333333, 0.33333333)\n",
            "  (0.44444444, 0.33333333) (0.55555556, 0.33333333)\n",
            "  (0.66666667, 0.33333333) (0.77777778, 0.33333333)\n",
            "  (0.88888889, 0.33333333) (1.        , 0.33333333)]\n",
            " [(0.        , 0.44444444) (0.11111111, 0.44444444)\n",
            "  (0.22222222, 0.44444444) (0.33333333, 0.44444444)\n",
            "  (0.44444444, 0.44444444) (0.55555556, 0.44444444)\n",
            "  (0.66666667, 0.44444444) (0.77777778, 0.44444444)\n",
            "  (0.88888889, 0.44444444) (1.        , 0.44444444)]\n",
            " [(0.        , 0.55555556) (0.11111111, 0.55555556)\n",
            "  (0.22222222, 0.55555556) (0.33333333, 0.55555556)\n",
            "  (0.44444444, 0.55555556) (0.55555556, 0.55555556)\n",
            "  (0.66666667, 0.55555556) (0.77777778, 0.55555556)\n",
            "  (0.88888889, 0.55555556) (1.        , 0.55555556)]\n",
            " [(0.        , 0.66666667) (0.11111111, 0.66666667)\n",
            "  (0.22222222, 0.66666667) (0.33333333, 0.66666667)\n",
            "  (0.44444444, 0.66666667) (0.55555556, 0.66666667)\n",
            "  (0.66666667, 0.66666667) (0.77777778, 0.66666667)\n",
            "  (0.88888889, 0.66666667) (1.        , 0.66666667)]\n",
            " [(0.        , 0.77777778) (0.11111111, 0.77777778)\n",
            "  (0.22222222, 0.77777778) (0.33333333, 0.77777778)\n",
            "  (0.44444444, 0.77777778) (0.55555556, 0.77777778)\n",
            "  (0.66666667, 0.77777778) (0.77777778, 0.77777778)\n",
            "  (0.88888889, 0.77777778) (1.        , 0.77777778)]\n",
            " [(0.        , 0.88888889) (0.11111111, 0.88888889)\n",
            "  (0.22222222, 0.88888889) (0.33333333, 0.88888889)\n",
            "  (0.44444444, 0.88888889) (0.55555556, 0.88888889)\n",
            "  (0.66666667, 0.88888889) (0.77777778, 0.88888889)\n",
            "  (0.88888889, 0.88888889) (1.        , 0.88888889)]\n",
            " [(0.        , 1.        ) (0.11111111, 1.        )\n",
            "  (0.22222222, 1.        ) (0.33333333, 1.        )\n",
            "  (0.44444444, 1.        ) (0.55555556, 1.        )\n",
            "  (0.66666667, 1.        ) (0.77777778, 1.        )\n",
            "  (0.88888889, 1.        ) (1.        , 1.        )]]\n"
          ]
        }
      ],
      "source": [
        "Z = np.zeros((10,10), [('x',float),('y',float)])\n",
        "Z['x'], Z['y'] = np.meshgrid(np.linspace(0,1,10),\n",
        "                             np.linspace(0,1,10))\n",
        "print(Z)"
      ]
    },
    {
      "cell_type": "markdown",
      "metadata": {
        "id": "6mu5ga5RyL2o"
      },
      "source": [
        "####  47. Given two arrays, X and Y, construct the Cauchy matrix C (Cij =1/(xi - yj)) \n",
        "(**hint**: np.subtract.outer)"
      ]
    },
    {
      "cell_type": "code",
      "execution_count": 20,
      "metadata": {
        "id": "BRqSBz0nyL2o",
        "outputId": "132e99f3-783d-4820-e821-62b232d12031",
        "colab": {
          "base_uri": "https://localhost:8080/"
        }
      },
      "outputs": [
        {
          "output_type": "execute_result",
          "data": {
            "text/plain": [
              "array([[0.14285714, 0.09090909, 0.125     , 0.1       , 0.07142857,\n",
              "        0.11111111, 0.09090909, 0.1       , 0.09090909, 0.1       ],\n",
              "       [0.16666667, 0.1       , 0.14285714, 0.11111111, 0.07692308,\n",
              "        0.125     , 0.1       , 0.11111111, 0.1       , 0.11111111],\n",
              "       [0.125     , 0.08333333, 0.11111111, 0.09090909, 0.06666667,\n",
              "        0.1       , 0.08333333, 0.09090909, 0.08333333, 0.09090909],\n",
              "       [0.14285714, 0.09090909, 0.125     , 0.1       , 0.07142857,\n",
              "        0.11111111, 0.09090909, 0.1       , 0.09090909, 0.1       ],\n",
              "       [0.1       , 0.07142857, 0.09090909, 0.07692308, 0.05882353,\n",
              "        0.08333333, 0.07142857, 0.07692308, 0.07142857, 0.07692308],\n",
              "       [0.33333333, 0.14285714, 0.25      , 0.16666667, 0.1       ,\n",
              "        0.2       , 0.14285714, 0.16666667, 0.14285714, 0.16666667],\n",
              "       [0.125     , 0.08333333, 0.11111111, 0.09090909, 0.06666667,\n",
              "        0.1       , 0.08333333, 0.09090909, 0.08333333, 0.09090909],\n",
              "       [0.33333333, 0.14285714, 0.25      , 0.16666667, 0.1       ,\n",
              "        0.2       , 0.14285714, 0.16666667, 0.14285714, 0.16666667],\n",
              "       [0.25      , 0.125     , 0.2       , 0.14285714, 0.09090909,\n",
              "        0.16666667, 0.125     , 0.14285714, 0.125     , 0.14285714],\n",
              "       [0.14285714, 0.09090909, 0.125     , 0.1       , 0.07142857,\n",
              "        0.11111111, 0.09090909, 0.1       , 0.09090909, 0.1       ]])"
            ]
          },
          "metadata": {},
          "execution_count": 20
        }
      ],
      "source": [
        "Y = np.random.randint(0,11,10)\n",
        "X = np.random.randint(11,22,10)\n",
        "\n",
        "Y = np.tile(Y,(10,1))\n",
        "\n",
        "X  = np.tile(X,(10,1)).T\n",
        "\n",
        "\n",
        "C = 1/(X - Y)\n",
        "C"
      ]
    },
    {
      "cell_type": "markdown",
      "metadata": {
        "id": "lJOdITLDyL2o"
      },
      "source": [
        "#### 48. Print the minimum and maximum representable value for each numpy scalar type (★★☆) \n",
        "(**hint**: np.iinfo, np.finfo, eps)"
      ]
    },
    {
      "cell_type": "code",
      "execution_count": 21,
      "metadata": {
        "id": "SZ0BwJcxyL2p",
        "outputId": "7b901ad4-03a3-4dbe-dad0-1f50162a8c8c",
        "colab": {
          "base_uri": "https://localhost:8080/"
        }
      },
      "outputs": [
        {
          "output_type": "stream",
          "name": "stdout",
          "text": [
            "-128\n",
            "127\n",
            "-32768\n",
            "32767\n",
            "-2147483648\n",
            "2147483647\n",
            "-9223372036854775808\n",
            "9223372036854775807\n",
            "-3.4028235e+38\n",
            "3.4028235e+38\n",
            "1.1920929e-07\n",
            "-1.7976931348623157e+308\n",
            "1.7976931348623157e+308\n",
            "2.220446049250313e-16\n"
          ]
        }
      ],
      "source": [
        "for dtype in [np.int8, np.int16, np.int32, np.int64]:\n",
        "    print(np.iinfo(dtype).min)\n",
        "    print(np.iinfo(dtype).max)\n",
        "for dtype in [np.float32, np.float64]:\n",
        "    print(np.finfo(dtype).min)\n",
        "    print(np.finfo(dtype).max)\n",
        "    print(np.finfo(dtype).eps)"
      ]
    },
    {
      "cell_type": "markdown",
      "metadata": {
        "id": "hrcJoGY3yL2p"
      },
      "source": [
        "#### 49. How to print all the values of an array? (★★☆) \n",
        "(**hint**: np.set\\_printoptions)"
      ]
    },
    {
      "cell_type": "code",
      "execution_count": 23,
      "metadata": {
        "id": "PbpxRerhyL2p"
      },
      "outputs": [],
      "source": [
        " #p.set_printoptions(threshold= np.nan)\n",
        "Z = np.zeros((25,25))\n",
        "print(Z) "
      ]
    },
    {
      "cell_type": "markdown",
      "metadata": {
        "id": "ywT0zB1lyL2q"
      },
      "source": [
        "#### 50. How to find the closest value (to a given scalar) in a vector? (★★☆) \n",
        "(**hint**: argmin)"
      ]
    },
    {
      "cell_type": "code",
      "execution_count": 24,
      "metadata": {
        "id": "S7lMa9kGyL2q",
        "outputId": "48ed6ba5-ba7d-4c8b-d90d-976979895af3",
        "colab": {
          "base_uri": "https://localhost:8080/"
        }
      },
      "outputs": [
        {
          "output_type": "stream",
          "name": "stdout",
          "text": [
            "[4.1391908  4.5228627  0.69608827 1.01656971 5.29758166 9.33376193\n",
            " 9.65270959 0.98502707 7.25380428 4.05655945]\n",
            "5.297581659367973\n"
          ]
        }
      ],
      "source": [
        "arr = np.random.uniform(0,10,10)\n",
        "arr_1 = np.abs(arr - 5)\n",
        "ind = arr_1.argmin()\n",
        "print(arr)\n",
        "print(arr[ind])"
      ]
    },
    {
      "cell_type": "markdown",
      "metadata": {
        "id": "cCfcj1MByL2q"
      },
      "source": [
        "#### 51. Create a structured array representing a position (x,y) and a color (r,g,b) (★★☆) \n",
        "(**hint**: dtype)"
      ]
    },
    {
      "cell_type": "code",
      "execution_count": 25,
      "metadata": {
        "id": "Ad6xmNGmyL2r",
        "outputId": "26f6d602-7f8a-4068-9ea7-66dbb26a376f",
        "colab": {
          "base_uri": "https://localhost:8080/"
        }
      },
      "outputs": [
        {
          "output_type": "stream",
          "name": "stdout",
          "text": [
            "[((0., 0.), (0., 0., 0.)) ((0., 0.), (0., 0., 0.))\n",
            " ((0., 0.), (0., 0., 0.)) ((0., 0.), (0., 0., 0.))\n",
            " ((0., 0.), (0., 0., 0.)) ((0., 0.), (0., 0., 0.))\n",
            " ((0., 0.), (0., 0., 0.)) ((0., 0.), (0., 0., 0.))\n",
            " ((0., 0.), (0., 0., 0.)) ((0., 0.), (0., 0., 0.))]\n"
          ]
        },
        {
          "output_type": "stream",
          "name": "stderr",
          "text": [
            "/usr/local/lib/python3.7/dist-packages/ipykernel_launcher.py:5: FutureWarning: Passing (type, 1) or '1type' as a synonym of type is deprecated; in a future version of numpy, it will be understood as (type, (1,)) / '(1,)type'.\n",
            "  \"\"\"\n"
          ]
        }
      ],
      "source": [
        "Z = np.zeros(10, [ ('position', [ ('x', float, 1),\n",
        "                                   ('y', float, 1)]),\n",
        "                    ('color',    [ ('r', float, 1),\n",
        "                                   ('g', float, 1),\n",
        "                                   ('b', float, 1)])])\n",
        "print(Z)"
      ]
    },
    {
      "cell_type": "markdown",
      "metadata": {
        "id": "hL_-45jGyL2r"
      },
      "source": [
        "#### 52. Consider a random vector with shape (100,2) representing coordinates, find point by point distances (★★☆) \n",
        "(**hint**: np.atleast\\_2d, T, np.sqrt)"
      ]
    },
    {
      "cell_type": "code",
      "execution_count": 2,
      "metadata": {
        "id": "wXMhAI1EyL2s",
        "outputId": "2da9f27b-888d-4323-a969-2c67ad7d3cde",
        "colab": {
          "base_uri": "https://localhost:8080/"
        }
      },
      "outputs": [
        {
          "output_type": "stream",
          "name": "stdout",
          "text": [
            "[[0.         0.2652232  0.53523457 ... 0.34337671 0.80530097 0.81641189]\n",
            " [0.2652232  0.         0.72452437 ... 0.57780025 0.54102759 0.55477384]\n",
            " [0.53523457 0.72452437 0.         ... 0.22897167 1.22161777 1.24933762]\n",
            " ...\n",
            " [0.34337671 0.57780025 0.22897167 ... 0.         1.1092674  1.12871886]\n",
            " [0.80530097 0.54102759 1.22161777 ... 1.1092674  0.         0.05470465]\n",
            " [0.81641189 0.55477384 1.24933762 ... 1.12871886 0.05470465 0.        ]]\n"
          ]
        }
      ],
      "source": [
        "import numpy as np\n",
        "arr = np.random.random((100,2))\n",
        "X,Y = np.atleast_2d(arr[:,0],arr[:,1])\n",
        "D = np.sqrt( (X-X.T)**2 + (Y-Y.T)**2)\n",
        "print(D)"
      ]
    },
    {
      "cell_type": "markdown",
      "metadata": {
        "id": "k_-jlJBjyL2s"
      },
      "source": [
        "#### 53. How to convert a float (32 bits) array into an integer (32 bits) in place? \n",
        "(**hint**: astype(copy=False))"
      ]
    },
    {
      "cell_type": "code",
      "execution_count": 4,
      "metadata": {
        "id": "NP4uG093yL2s",
        "outputId": "69d155c4-65a9-453a-b6c6-b733c6caa264",
        "colab": {
          "base_uri": "https://localhost:8080/"
        }
      },
      "outputs": [
        {
          "output_type": "stream",
          "name": "stdout",
          "text": [
            "[2. 1. 2. 3. 4. 5. 6. 7. 8. 9.]\n"
          ]
        }
      ],
      "source": [
        "Z = np.arange(10, dtype=np.float32)\n",
        "Z_1 = Z.astype(np.float32, copy=False)\n",
        "Z_1[0] = 2\n",
        "print(Z)"
      ]
    },
    {
      "cell_type": "markdown",
      "metadata": {
        "id": "H8QRPeEnyL2t"
      },
      "source": [
        "#### 54. How to read the following file? (★★☆) \n",
        "(**hint**: np.genfromtxt)"
      ]
    },
    {
      "cell_type": "markdown",
      "metadata": {
        "id": "x_tpMVDEyL2t"
      },
      "source": [
        "```\n",
        "1, 2, 3, 4, 5\n",
        "6,  ,  , 7, 8\n",
        " ,  , 9,10,11\n",
        "```"
      ]
    },
    {
      "cell_type": "code",
      "execution_count": 5,
      "metadata": {
        "id": "yJUgWL0lyL2t",
        "outputId": "8b47df12-52ec-4b05-dce7-3ed8a3efed49",
        "colab": {
          "base_uri": "https://localhost:8080/"
        }
      },
      "outputs": [
        {
          "output_type": "stream",
          "name": "stdout",
          "text": [
            "[[ 1  2  3  4  5]\n",
            " [ 6 -1 -1  7  8]\n",
            " [-1 -1  9 10 11]]\n"
          ]
        },
        {
          "output_type": "stream",
          "name": "stderr",
          "text": [
            "/usr/local/lib/python3.7/dist-packages/ipykernel_launcher.py:7: DeprecationWarning: `np.int` is a deprecated alias for the builtin `int`. To silence this warning, use `int` by itself. Doing this will not modify any behavior and is safe. When replacing `np.int`, you may wish to use e.g. `np.int64` or `np.int32` to specify the precision. If you wish to review your current use, check the release note link for additional information.\n",
            "Deprecated in NumPy 1.20; for more details and guidance: https://numpy.org/devdocs/release/1.20.0-notes.html#deprecations\n",
            "  import sys\n"
          ]
        }
      ],
      "source": [
        "from io import StringIO\n",
        "\n",
        " \n",
        "s = StringIO(\"\"\"1, 2, 3, 4, 5\\n\n",
        "                6,  ,  , 7, 8\\n\n",
        "                 ,  , 9,10,11\\n\"\"\")\n",
        "Z = np.genfromtxt(s, delimiter=\",\", dtype=np.int)\n",
        "print(Z)"
      ]
    },
    {
      "cell_type": "markdown",
      "metadata": {
        "id": "bnkr4OSEyL2u"
      },
      "source": [
        "#### 55. What is the equivalent of enumerate for numpy arrays? (★★☆) \n",
        "(**hint**: np.ndenumerate, np.ndindex)"
      ]
    },
    {
      "cell_type": "code",
      "execution_count": 6,
      "metadata": {
        "id": "hkU5kCQVyL2u",
        "outputId": "a5eb9bce-3dda-453d-b148-ca36bcf69e12",
        "colab": {
          "base_uri": "https://localhost:8080/"
        }
      },
      "outputs": [
        {
          "output_type": "stream",
          "name": "stdout",
          "text": [
            "(0, 0) 0\n",
            "(0, 1) 1\n",
            "(0, 2) 2\n",
            "(1, 0) 3\n",
            "(1, 1) 4\n",
            "(1, 2) 5\n",
            "(2, 0) 6\n",
            "(2, 1) 7\n",
            "(2, 2) 8\n",
            "(0, 0) 0\n",
            "(0, 1) 1\n",
            "(0, 2) 2\n",
            "(1, 0) 3\n",
            "(1, 1) 4\n",
            "(1, 2) 5\n",
            "(2, 0) 6\n",
            "(2, 1) 7\n",
            "(2, 2) 8\n"
          ]
        }
      ],
      "source": [
        "Z = np.arange(9).reshape(3,3)\n",
        "for index, value in np.ndenumerate(Z):\n",
        "    print(index, value)\n",
        "for index in np.ndindex(Z.shape):\n",
        "    print(index, Z[index])\n",
        "    \n",
        "    "
      ]
    },
    {
      "cell_type": "markdown",
      "metadata": {
        "id": "1Zy8arZeyL2u"
      },
      "source": [
        "#### 56. Generate a generic 2D Gaussian-like array (★★☆) \n",
        "(**hint**: np.meshgrid, np.exp)"
      ]
    },
    {
      "cell_type": "code",
      "execution_count": 7,
      "metadata": {
        "id": "VJCKUAmQyL2u",
        "outputId": "b77db70d-6052-48a2-ff5b-c9267fee9e17",
        "colab": {
          "base_uri": "https://localhost:8080/"
        }
      },
      "outputs": [
        {
          "output_type": "stream",
          "name": "stdout",
          "text": [
            "[[0.36787944 0.44822088 0.51979489 0.57375342 0.60279818 0.60279818\n",
            "  0.57375342 0.51979489 0.44822088 0.36787944]\n",
            " [0.44822088 0.54610814 0.63331324 0.69905581 0.73444367 0.73444367\n",
            "  0.69905581 0.63331324 0.54610814 0.44822088]\n",
            " [0.51979489 0.63331324 0.73444367 0.81068432 0.85172308 0.85172308\n",
            "  0.81068432 0.73444367 0.63331324 0.51979489]\n",
            " [0.57375342 0.69905581 0.81068432 0.89483932 0.9401382  0.9401382\n",
            "  0.89483932 0.81068432 0.69905581 0.57375342]\n",
            " [0.60279818 0.73444367 0.85172308 0.9401382  0.98773022 0.98773022\n",
            "  0.9401382  0.85172308 0.73444367 0.60279818]\n",
            " [0.60279818 0.73444367 0.85172308 0.9401382  0.98773022 0.98773022\n",
            "  0.9401382  0.85172308 0.73444367 0.60279818]\n",
            " [0.57375342 0.69905581 0.81068432 0.89483932 0.9401382  0.9401382\n",
            "  0.89483932 0.81068432 0.69905581 0.57375342]\n",
            " [0.51979489 0.63331324 0.73444367 0.81068432 0.85172308 0.85172308\n",
            "  0.81068432 0.73444367 0.63331324 0.51979489]\n",
            " [0.44822088 0.54610814 0.63331324 0.69905581 0.73444367 0.73444367\n",
            "  0.69905581 0.63331324 0.54610814 0.44822088]\n",
            " [0.36787944 0.44822088 0.51979489 0.57375342 0.60279818 0.60279818\n",
            "  0.57375342 0.51979489 0.44822088 0.36787944]]\n"
          ]
        }
      ],
      "source": [
        "sigma,myu = 1.0,0.0\n",
        "\n",
        "X,Y  = np.meshgrid(np.linspace(-1,1,10),np.linspace(-1,1,10))\n",
        "D = np.sqrt(X**2+Y**2)\n",
        "G = np.exp(-(D-myu)**2/(2*sigma**2))\n",
        "print(G)"
      ]
    },
    {
      "cell_type": "markdown",
      "metadata": {
        "id": "Cs3KYCpIyL2v"
      },
      "source": [
        "#### 57. How to randomly place p elements in a 2D array? (★★☆) \n",
        "(**hint**: np.put, np.random.choice)"
      ]
    },
    {
      "cell_type": "code",
      "execution_count": 8,
      "metadata": {
        "id": "s-9TlXfRyL2v",
        "outputId": "836d9c40-7226-4533-8c40-868247abbbdc",
        "colab": {
          "base_uri": "https://localhost:8080/"
        }
      },
      "outputs": [
        {
          "output_type": "stream",
          "name": "stdout",
          "text": [
            "[[0. 0. 0. 0. 0. 1. 0. 0. 0. 0.]\n",
            " [0. 0. 0. 0. 0. 0. 0. 0. 0. 0.]\n",
            " [0. 0. 0. 0. 0. 0. 1. 0. 0. 0.]\n",
            " [0. 0. 0. 0. 0. 0. 0. 0. 0. 0.]\n",
            " [0. 0. 0. 0. 0. 0. 0. 0. 0. 0.]\n",
            " [0. 0. 0. 0. 0. 0. 0. 0. 0. 0.]\n",
            " [0. 0. 0. 0. 0. 0. 0. 0. 0. 1.]\n",
            " [0. 0. 0. 0. 0. 0. 0. 0. 0. 0.]\n",
            " [0. 0. 0. 0. 0. 0. 0. 0. 0. 0.]\n",
            " [0. 0. 0. 0. 0. 0. 0. 0. 0. 0.]]\n"
          ]
        }
      ],
      "source": [
        "n = 10\n",
        "p = 3\n",
        "Z = np.zeros((n,n))\n",
        "np.put(Z, np.random.choice(range(n*n), p, replace=False),1)\n",
        "print(Z)\n",
        "\n"
      ]
    },
    {
      "cell_type": "markdown",
      "metadata": {
        "id": "3vbGIGxzyL2v"
      },
      "source": [
        "#### 58. Subtract the mean of each row of a matrix (★★☆) \n",
        "(**hint**: mean(axis=,keepdims=))"
      ]
    },
    {
      "cell_type": "code",
      "execution_count": 9,
      "metadata": {
        "id": "l-w_1SW-yL2w",
        "outputId": "7858f696-16a2-484c-c6a9-6d2ed1a78e7d",
        "colab": {
          "base_uri": "https://localhost:8080/"
        }
      },
      "outputs": [
        {
          "output_type": "stream",
          "name": "stdout",
          "text": [
            "[[ 0.41470795 -0.18369111 -0.35646096 -0.18310884  0.26162865  0.13978207\n",
            "   0.07048529  0.17455328 -0.19871269 -0.13918363]\n",
            " [ 0.30797222  0.10851901  0.20167123 -0.41284732 -0.408324    0.43150606\n",
            "  -0.49352418  0.44135438  0.08374707 -0.26007449]\n",
            " [-0.47815443  0.04789316 -0.34173322 -0.35725018  0.11308849  0.27626904\n",
            "   0.00169153  0.11290623  0.28821636  0.33707302]\n",
            " [ 0.05556372  0.10185659 -0.19038804 -0.20152953 -0.21770173  0.47781305\n",
            "   0.43125073 -0.38828539 -0.44839117  0.37981178]\n",
            " [ 0.18531708  0.00551546 -0.193056    0.3107093   0.05242925 -0.32555737\n",
            "  -0.15116896 -0.1698833  -0.01754876  0.3032433 ]]\n"
          ]
        },
        {
          "output_type": "execute_result",
          "data": {
            "text/plain": [
              "array([[ True],\n",
              "       [ True],\n",
              "       [ True],\n",
              "       [ True],\n",
              "       [ True]])"
            ]
          },
          "metadata": {},
          "execution_count": 9
        }
      ],
      "source": [
        "X = np.random.rand(5, 10)\n",
        "Y = X - X.mean(axis = 1,keepdims = True)\n",
        "print(Y)\n",
        "X.mean(axis = 1).reshape(-1,1) == X.mean(axis = 1,keepdims =True)"
      ]
    },
    {
      "cell_type": "markdown",
      "metadata": {
        "id": "M2CyiuktyL2w"
      },
      "source": [
        "#### 59. How to sort an array by the nth column? (★★☆) \n",
        "(**hint**: argsort)"
      ]
    },
    {
      "cell_type": "code",
      "execution_count": 10,
      "metadata": {
        "id": "Xs-B6ZSZyL2w",
        "outputId": "f7778f94-90ae-4a1c-a7c4-7329ca04e054",
        "colab": {
          "base_uri": "https://localhost:8080/"
        }
      },
      "outputs": [
        {
          "output_type": "stream",
          "name": "stdout",
          "text": [
            "[[9 5 1 9 8]\n",
            " [0 3 2 1 4]\n",
            " [2 1 4 4 8]\n",
            " [8 7 8 6 4]\n",
            " [5 8 9 4 8]]\n",
            "[[5 8 9 4 8]\n",
            " [8 7 8 6 4]\n",
            " [9 5 1 9 8]\n",
            " [0 3 2 1 4]\n",
            " [2 1 4 4 8]]\n",
            "[[9 9 1 5 8]\n",
            " [0 1 2 3 4]\n",
            " [2 4 4 1 8]\n",
            " [8 6 8 7 4]\n",
            " [5 4 9 8 8]]\n"
          ]
        }
      ],
      "source": [
        "Z = np.random.randint(0,10,(5,5))\n",
        "print(Z)\n",
        "\n",
        "print(Z[(-Z)[:,1].argsort()])\n",
        "print(Z[:,Z[1,:].argsort()])"
      ]
    },
    {
      "cell_type": "markdown",
      "metadata": {
        "id": "y2CLDtHVyL2w"
      },
      "source": [
        "#### 60. How to tell if a given 2D array has null columns? (★★☆) \n",
        "(**hint**: any, ~)"
      ]
    },
    {
      "cell_type": "code",
      "execution_count": 12,
      "metadata": {
        "id": "mixJjuIByL2x",
        "outputId": "b327b66e-99f8-4a7a-d911-3357c772bc39",
        "colab": {
          "base_uri": "https://localhost:8080/"
        }
      },
      "outputs": [
        {
          "output_type": "stream",
          "name": "stdout",
          "text": [
            "False\n"
          ]
        }
      ],
      "source": [
        "Z = np.random.randint(0,3,(3,10))\n",
        "print((~Z.any(axis=0)).any())"
      ]
    },
    {
      "cell_type": "markdown",
      "metadata": {
        "id": "nsWSOQhxyL2x"
      },
      "source": [
        "#### 61. Find the nearest value from a given value in an array (★★☆) \n",
        "(**hint**: np.abs, argmin, flat)"
      ]
    },
    {
      "cell_type": "code",
      "execution_count": 13,
      "metadata": {
        "id": "Gth-QBEryL2x",
        "outputId": "ca47a06e-d948-4577-c939-fbfb886ea299",
        "colab": {
          "base_uri": "https://localhost:8080/"
        }
      },
      "outputs": [
        {
          "output_type": "stream",
          "name": "stdout",
          "text": [
            "0.5001591027659612\n"
          ]
        }
      ],
      "source": [
        "Z = np.random.uniform(0,1,10)\n",
        "z = 0.5\n",
        "m = Z.flat[np.abs(Z - z).argmin()]\n",
        "print(m)\n"
      ]
    },
    {
      "cell_type": "markdown",
      "metadata": {
        "id": "cY6uO3VUyL2x"
      },
      "source": [
        "#### 62. Considering two arrays with shape (1,3) and (3,1), how to compute their sum using an iterator? (★★☆) \n",
        "(**hint**: np.nditer)"
      ]
    },
    {
      "cell_type": "code",
      "execution_count": 14,
      "metadata": {
        "id": "Xth1RZGKyL2y",
        "outputId": "ae978ea0-eb29-491e-ffea-1fb302a20051",
        "colab": {
          "base_uri": "https://localhost:8080/"
        }
      },
      "outputs": [
        {
          "output_type": "stream",
          "name": "stdout",
          "text": [
            "[[0 1 2]\n",
            " [1 2 3]\n",
            " [2 3 4]]\n"
          ]
        }
      ],
      "source": [
        "A = np.arange(3).reshape(3,1)\n",
        "B = np.arange(3).reshape(1,3)\n",
        "it = np.nditer([A,B,None])\n",
        "for x,y,z in it: z[...] = x + y\n",
        "print(it.operands[2])"
      ]
    },
    {
      "cell_type": "markdown",
      "metadata": {
        "id": "smU95ijlyL2y"
      },
      "source": [
        "#### 63. Create an array class that has a name attribute (★★☆) \n",
        "(**hint**: class method)"
      ]
    },
    {
      "cell_type": "code",
      "execution_count": 15,
      "metadata": {
        "id": "UjqBoj-ZyL2y",
        "outputId": "1b3d0edf-353b-4bd6-93fb-9cc5d20bb97f",
        "colab": {
          "base_uri": "https://localhost:8080/"
        }
      },
      "outputs": [
        {
          "output_type": "stream",
          "name": "stdout",
          "text": [
            "range_10\n"
          ]
        }
      ],
      "source": [
        "class NamedArray(np.ndarray):\n",
        "    def __new__(cls, array, name=\"no name\"):\n",
        "        obj = np.asarray(array).view(cls)\n",
        "        obj.name = name\n",
        "        return obj\n",
        "    def __array_finalize__(self, obj):\n",
        "        if obj is None: return\n",
        "        self.info = getattr(obj, 'name', \"no name\")\n",
        "\n",
        "Z = NamedArray(np.arange(10), \"range_10\")\n",
        "print (Z.name)"
      ]
    },
    {
      "cell_type": "markdown",
      "metadata": {
        "id": "9ga9WFLJyL2z"
      },
      "source": [
        "#### 64. Consider a given vector, how to add 1 to each element indexed by a second vector (be careful with repeated indices)? (★★★) \n",
        "(**hint**: np.bincount | np.add.at)"
      ]
    },
    {
      "cell_type": "code",
      "execution_count": 2,
      "metadata": {
        "id": "IyjfXpjQyL2z",
        "outputId": "d8340b26-11ac-4059-d459-3c802820acf0",
        "colab": {
          "base_uri": "https://localhost:8080/"
        }
      },
      "outputs": [
        {
          "output_type": "stream",
          "name": "stdout",
          "text": [
            "[2. 4. 4. 2. 3. 4. 2. 1. 3. 5.]\n",
            "[3. 7. 7. 3. 5. 7. 3. 1. 5. 9.]\n"
          ]
        }
      ],
      "source": [
        "import numpy as np\n",
        "Z = np.ones(10)\n",
        "I = np.random.randint(0,len(Z),20)\n",
        "Z += np.bincount(I, minlength=len(Z))\n",
        "print(Z)\n",
        "np.add.at(Z, I, 1)\n",
        "print(Z)"
      ]
    },
    {
      "cell_type": "markdown",
      "metadata": {
        "id": "Az65zmNEyL2z"
      },
      "source": [
        "#### 65. How to accumulate elements of a vector (X) to an array (F) based on an index list (I)? (★★★) \n",
        "(**hint**: np.bincount)"
      ]
    },
    {
      "cell_type": "code",
      "execution_count": 3,
      "metadata": {
        "id": "MFYuq2elyL2z",
        "outputId": "9684523c-8fa7-49b3-8855-13b7646bd982",
        "colab": {
          "base_uri": "https://localhost:8080/"
        }
      },
      "outputs": [
        {
          "output_type": "stream",
          "name": "stdout",
          "text": [
            "[0. 7. 0. 6. 5. 0. 0. 0. 0. 3.]\n"
          ]
        }
      ],
      "source": [
        "X = [1,2,3,4,5,6]\n",
        "I = [1,3,9,3,4,1]\n",
        "F = np.bincount(I,X)\n",
        "print(F)"
      ]
    },
    {
      "cell_type": "markdown",
      "metadata": {
        "id": "AO__5rlhyL20"
      },
      "source": [
        "#### 66. Considering a (w,h,3) image of (dtype=ubyte), compute the number of unique colors (★★★) \n",
        "(**hint**: np.unique)"
      ]
    },
    {
      "cell_type": "code",
      "execution_count": 3,
      "metadata": {
        "id": "1qdxj1MByL20",
        "outputId": "145ea972-5486-4b8c-ce70-4905ddce9cd7",
        "colab": {
          "base_uri": "https://localhost:8080/"
        }
      },
      "outputs": [
        {
          "output_type": "stream",
          "name": "stdout",
          "text": [
            "64\n"
          ]
        }
      ],
      "source": [
        "import numpy as np\n",
        "w, h = 256, 256\n",
        "I = np.random.randint(0, 4, (h, w, 3)).astype(np.ubyte)\n",
        "colors = np.unique(I.reshape(-1, 3), axis=0)\n",
        "n = len(colors)\n",
        "print(n)\n",
        "\n"
      ]
    },
    {
      "cell_type": "markdown",
      "metadata": {
        "id": "dyewnQsPyL20"
      },
      "source": [
        "#### 67. Considering a four dimensions array, how to get sum over the last two axis at once? (★★★) \n",
        "(**hint**: sum(axis=(-2,-1)))"
      ]
    },
    {
      "cell_type": "code",
      "execution_count": 4,
      "metadata": {
        "id": "GM8Am3p-yL21",
        "outputId": "e85e80a2-a053-4035-9a48-7660e9beaeb9",
        "colab": {
          "base_uri": "https://localhost:8080/"
        }
      },
      "outputs": [
        {
          "output_type": "stream",
          "name": "stdout",
          "text": [
            "[[50 58 56 27]\n",
            " [45 65 61 53]\n",
            " [51 41 53 57]]\n"
          ]
        }
      ],
      "source": [
        "A = np.random.randint(0,10,(3,4,3,4))\n",
        "\n",
        "sum = A.sum(axis=(-2,-1))\n",
        "print(sum)"
      ]
    },
    {
      "cell_type": "markdown",
      "metadata": {
        "id": "NHj0HG3VyL21"
      },
      "source": [
        "#### 68. Considering a one-dimensional vector D, how to compute means of subsets of D using a vector S of same size describing subset  indices? (★★★) \n",
        "(**hint**: np.bincount)"
      ]
    },
    {
      "cell_type": "code",
      "execution_count": 5,
      "metadata": {
        "id": "a7jy8YugyL21",
        "outputId": "26db0d32-6b8a-4d4a-8db5-fa8674929ac1",
        "colab": {
          "base_uri": "https://localhost:8080/"
        }
      },
      "outputs": [
        {
          "output_type": "stream",
          "name": "stdout",
          "text": [
            "[0.53675416 0.44298324 0.63162509 0.65617133 0.59525977 0.53593881\n",
            " 0.51842582 0.29675959 0.594253   0.5682426 ]\n"
          ]
        }
      ],
      "source": [
        "D = np.random.uniform(0,1,100)\n",
        "S = np.random.randint(0,10,100)\n",
        "D_sums = np.bincount(S, weights=D)\n",
        "D_counts = np.bincount(S)\n",
        "D_means = D_sums / D_counts\n",
        "print(D_means)\n"
      ]
    },
    {
      "cell_type": "markdown",
      "metadata": {
        "id": "wtzBq18ayL21"
      },
      "source": [
        "#### 69. How to get the diagonal of a dot product? (★★★) \n",
        "(**hint**: np.diag)"
      ]
    },
    {
      "cell_type": "code",
      "execution_count": 6,
      "metadata": {
        "id": "jUD2UqbDyL22",
        "outputId": "8aa0e85e-50a6-466f-ad8f-560094e50c36",
        "colab": {
          "base_uri": "https://localhost:8080/"
        }
      },
      "outputs": [
        {
          "output_type": "stream",
          "name": "stdout",
          "text": [
            "[2.0637846  0.4581219  2.12724106 0.58763424 1.1605023 ]\n"
          ]
        }
      ],
      "source": [
        "A = np.random.uniform(0,1,(5,5))\n",
        "B = np.random.uniform(0,1,(5,5))\n",
        "print(np.diag(np.dot(A,B)))"
      ]
    },
    {
      "cell_type": "markdown",
      "metadata": {
        "id": "c_9E8idCyL22"
      },
      "source": [
        "#### 70. Consider the vector \\[1, 2, 3, 4, 5\\], how to build a new vector with 3 consecutive zeros interleaved between each value? (★★★) \n",
        "(**hint**: array\\[::4\\])"
      ]
    },
    {
      "cell_type": "code",
      "execution_count": 7,
      "metadata": {
        "id": "1F_krKIcyL23",
        "outputId": "6819ac3c-10f2-4d59-e543-0b480b2a5a00",
        "colab": {
          "base_uri": "https://localhost:8080/"
        }
      },
      "outputs": [
        {
          "output_type": "stream",
          "name": "stdout",
          "text": [
            "[1. 0. 0. 0. 2. 0. 0. 0. 3. 0. 0. 0. 4. 0. 0. 0. 5.]\n"
          ]
        }
      ],
      "source": [
        "z=np.array([1,2,3,4,5])\n",
        "n=3\n",
        "res=np.zeros(len(z)+(len(z)-1)*n)\n",
        "res[::n+1]=z\n",
        "print(res)"
      ]
    },
    {
      "cell_type": "markdown",
      "metadata": {
        "id": "0bkBkD8hyL23"
      },
      "source": [
        "#### 71. Consider an array of dimension (5,5,3), how to mulitply it by an array with dimensions (5,5)? (★★★) \n",
        "(**hint**: array\\[:, :, None\\])"
      ]
    },
    {
      "cell_type": "code",
      "execution_count": 8,
      "metadata": {
        "collapsed": true,
        "id": "Msu8Rt8byL23",
        "outputId": "db4e1366-54f9-439d-dae3-8e03628cf096",
        "colab": {
          "base_uri": "https://localhost:8080/"
        }
      },
      "outputs": [
        {
          "output_type": "stream",
          "name": "stdout",
          "text": [
            "[[[4. 4. 4.]\n",
            "  [4. 4. 4.]\n",
            "  [4. 4. 4.]\n",
            "  [4. 4. 4.]\n",
            "  [4. 4. 4.]]\n",
            "\n",
            " [[4. 4. 4.]\n",
            "  [4. 4. 4.]\n",
            "  [4. 4. 4.]\n",
            "  [4. 4. 4.]\n",
            "  [4. 4. 4.]]\n",
            "\n",
            " [[4. 4. 4.]\n",
            "  [4. 4. 4.]\n",
            "  [4. 4. 4.]\n",
            "  [4. 4. 4.]\n",
            "  [4. 4. 4.]]\n",
            "\n",
            " [[4. 4. 4.]\n",
            "  [4. 4. 4.]\n",
            "  [4. 4. 4.]\n",
            "  [4. 4. 4.]\n",
            "  [4. 4. 4.]]\n",
            "\n",
            " [[4. 4. 4.]\n",
            "  [4. 4. 4.]\n",
            "  [4. 4. 4.]\n",
            "  [4. 4. 4.]\n",
            "  [4. 4. 4.]]]\n"
          ]
        }
      ],
      "source": [
        "A = np.ones((5,5,3))\n",
        "B = 4*np.ones((5,5))\n",
        "print(A * B[:,:,None])"
      ]
    },
    {
      "cell_type": "markdown",
      "metadata": {
        "id": "IcGDvt4XyL23"
      },
      "source": [
        "#### 72. How to swap two rows of an array? (★★★) \n",
        "(**hint**: array\\[\\[\\]\\] = array\\[\\[\\]\\])"
      ]
    },
    {
      "cell_type": "code",
      "execution_count": 10,
      "metadata": {
        "id": "-abDEjSGyL24",
        "outputId": "1f019d1a-22bb-475c-ef05-05223e021cd4",
        "colab": {
          "base_uri": "https://localhost:8080/"
        }
      },
      "outputs": [
        {
          "output_type": "stream",
          "name": "stdout",
          "text": [
            "[[43 46 44 17 30]\n",
            " [36 40 36 47 32]\n",
            " [33 44 11 31 25]\n",
            " [40 29 22 47 32]\n",
            " [17 23 12 13 31]]\n",
            "[[43 46 44 17 30]\n",
            " [33 44 11 31 25]\n",
            " [36 40 36 47 32]\n",
            " [40 29 22 47 32]\n",
            " [17 23 12 13 31]]\n"
          ]
        }
      ],
      "source": [
        "x=np.random.randint(10,50,(5,5))\n",
        "print(x)\n",
        "x[[1,2]]=x[[2,1]]\n",
        "print(x)"
      ]
    },
    {
      "cell_type": "markdown",
      "metadata": {
        "id": "QI9tZcy4yL24"
      },
      "source": [
        "#### 73. Consider a set of 10 triplets describing 10 triangles (with shared vertices), find the set of unique line segments composing all the  triangles (★★★) \n",
        "(**hint**: repeat, np.roll, np.sort, view, np.unique)"
      ]
    },
    {
      "cell_type": "code",
      "execution_count": 11,
      "metadata": {
        "id": "-Jc8fprzyL25",
        "outputId": "d89904b9-f790-4b54-97e1-17320a288c9d",
        "colab": {
          "base_uri": "https://localhost:8080/"
        }
      },
      "outputs": [
        {
          "output_type": "stream",
          "name": "stdout",
          "text": [
            "[( 0, 59) ( 0, 60) ( 2, 13) ( 2, 33) ( 9, 21) ( 9, 53) (12, 86) (12, 94)\n",
            " (13, 33) (16, 20) (16, 86) (20, 86) (21, 53) (25, 68) (25, 91) (30, 96)\n",
            " (32, 38) (32, 44) (36, 68) (36, 90) (38, 44) (59, 60) (68, 90) (68, 91)\n",
            " (78, 81) (78, 99) (81, 99) (86, 94) (96, 96)]\n"
          ]
        }
      ],
      "source": [
        "faces = np.random.randint(0,100,(10,3))\n",
        "F = np.roll(faces.repeat(2,axis=1),-1,axis=1)\n",
        "F = F.reshape(len(F)*3,2)\n",
        "F = np.sort(F,axis=1)\n",
        "G = F.view( dtype=[('p0',F.dtype),('p1',F.dtype)] )\n",
        "G = np.unique(G)\n",
        "print(G)"
      ]
    },
    {
      "cell_type": "markdown",
      "metadata": {
        "id": "xQr2E7NkyL25"
      },
      "source": [
        "#### 74. Given an array C that is a bincount, how to produce an array A such that np.bincount(A) == C? (★★★) \n",
        "(**hint**: np.repeat)"
      ]
    },
    {
      "cell_type": "code",
      "execution_count": 12,
      "metadata": {
        "id": "a6umWSDOyL25",
        "outputId": "225a0390-72b1-498c-bb36-f83321e10a0f",
        "colab": {
          "base_uri": "https://localhost:8080/"
        }
      },
      "outputs": [
        {
          "output_type": "stream",
          "name": "stdout",
          "text": [
            "[1 1 2 3 4 4 6]\n"
          ]
        }
      ],
      "source": [
        "C = np.bincount([1,1,2,3,4,4,6])\n",
        "A = np.repeat(np.arange(len(C)), C)\n",
        "print(A)"
      ]
    },
    {
      "cell_type": "markdown",
      "metadata": {
        "id": "_kGU07RxyL26"
      },
      "source": [
        "#### 75. How to compute averages using a sliding window over an array? (★★★) \n",
        "(**hint**: np.cumsum)"
      ]
    },
    {
      "cell_type": "code",
      "execution_count": 13,
      "metadata": {
        "id": "FyaHjBT8yL26",
        "outputId": "b88b2fd9-0070-4e3a-b2f9-91248203c9e7",
        "colab": {
          "base_uri": "https://localhost:8080/"
        }
      },
      "outputs": [
        {
          "output_type": "stream",
          "name": "stdout",
          "text": [
            "[ 1.  2.  3.  4.  5.  6.  7.  8.  9. 10. 11. 12. 13. 14. 15. 16. 17. 18.]\n"
          ]
        }
      ],
      "source": [
        "def moving_average(a, n=3) :\n",
        "    ret = np.cumsum(a, dtype=float)\n",
        "    ret[n:] = ret[n:] - ret[:-n]\n",
        "    return ret[n - 1:] / n\n",
        "Z = np.arange(20)\n",
        "print(moving_average(Z, n=3))\n"
      ]
    },
    {
      "cell_type": "markdown",
      "metadata": {
        "id": "U06wOEUOyL26"
      },
      "source": [
        "#### 76. Consider a one-dimensional array Z, build a two-dimensional array whose first row is (Z\\[0\\],Z\\[1\\],Z\\[2\\]) and each subsequent row is  shifted by 1 (last row should be (Z\\[-3\\],Z\\[-2\\],Z\\[-1\\]) (★★★) \n",
        "(**hint**: from numpy.lib import stride_tricks)"
      ]
    },
    {
      "cell_type": "code",
      "execution_count": 14,
      "metadata": {
        "id": "dEKHVspByL27",
        "outputId": "21d85d6e-df33-4857-f1f7-e8467c7f3340",
        "colab": {
          "base_uri": "https://localhost:8080/"
        }
      },
      "outputs": [
        {
          "output_type": "stream",
          "name": "stdout",
          "text": [
            "[[0 1 2]\n",
            " [1 2 3]\n",
            " [2 3 4]\n",
            " [3 4 5]\n",
            " [4 5 6]\n",
            " [5 6 7]\n",
            " [6 7 8]\n",
            " [7 8 9]]\n"
          ]
        }
      ],
      "source": [
        "from numpy.lib import stride_tricks\n",
        "\n",
        "def rolling(a, window):\n",
        "    shape = (a.size - window + 1, window)\n",
        "    strides = (a.strides[0], a.strides[0])\n",
        "    return stride_tricks.as_strided(a, shape=shape, strides=strides)\n",
        "Z = rolling(np.arange(10), 3)\n",
        "print(Z)\n"
      ]
    },
    {
      "cell_type": "markdown",
      "metadata": {
        "id": "5BvNCuy7yL27"
      },
      "source": [
        "#### 77. How to negate a boolean, or to change the sign of a float inplace? (★★★) \n",
        "(**hint**: np.logical_not, np.negative)"
      ]
    },
    {
      "cell_type": "code",
      "execution_count": 15,
      "metadata": {
        "id": "GDrM2BDQyL28",
        "outputId": "f3840aa5-20dc-40b9-dffa-6370d936a926",
        "colab": {
          "base_uri": "https://localhost:8080/"
        }
      },
      "outputs": [
        {
          "output_type": "execute_result",
          "data": {
            "text/plain": [
              "array([-0.80588638, -0.37724878,  0.39862907,  0.39607488,  0.85268068,\n",
              "       -0.14285887, -0.24071036,  0.32583063, -0.93726948,  0.94735143,\n",
              "       -0.71692896, -0.17364715, -0.11302778,  0.60504921, -0.14652745,\n",
              "       -0.20082334,  0.40346703, -0.66953816, -0.96887724,  0.21856576,\n",
              "       -0.83252542,  0.86557427,  0.38579061, -0.70244829,  0.77181965,\n",
              "        0.39709936, -0.22884211, -0.94843979, -0.84494502,  0.43328899,\n",
              "       -0.67566863, -0.98125989, -0.44232427,  0.28089126,  0.31867301,\n",
              "        0.63089283,  0.83606621, -0.51095269,  0.7677962 , -0.51238947,\n",
              "        0.30136382, -0.10031205,  0.35059785,  0.58950664, -0.39805022,\n",
              "       -0.41270105, -0.4583015 ,  0.87369498,  0.45799949, -0.92814412,\n",
              "        0.45596458, -0.61361591, -0.3443022 , -0.0876794 , -0.56174915,\n",
              "       -0.22468983,  0.49009496, -0.96917975,  0.53225835,  0.4148382 ,\n",
              "       -0.35453055,  0.67877144,  0.93729595,  0.32303487,  0.74405971,\n",
              "       -0.89666985,  0.43273   ,  0.98258662,  0.34555145,  0.12864393,\n",
              "       -0.83258893, -0.87361936, -0.07427726, -0.59355993, -0.40282107,\n",
              "       -0.4824685 ,  0.63906462, -0.86396284, -0.86329006, -0.91392255,\n",
              "       -0.29144934,  0.81706346,  0.23870058, -0.78563356, -0.06503381,\n",
              "       -0.4643611 , -0.92175495,  0.72674042, -0.26200757, -0.16791888,\n",
              "       -0.69911178,  0.89345253,  0.12171363, -0.5575355 ,  0.87928955,\n",
              "       -0.63691412,  0.16269079,  0.38245472,  0.85424667, -0.57955504])"
            ]
          },
          "metadata": {},
          "execution_count": 15
        }
      ],
      "source": [
        "Z = np.random.randint(0,2,100)\n",
        "np.logical_not(Z, out=Z)\n",
        "\n",
        "Z = np.random.uniform(-1.0,1.0,100)\n",
        "np.negative(Z, out=Z)"
      ]
    },
    {
      "cell_type": "markdown",
      "metadata": {
        "id": "E3-MOZTJyL28"
      },
      "source": [
        "#### 78. Consider 2 sets of points P0,P1 describing lines (2d) and a point p, how to compute distance from p to each line i  (P0\\[i\\],P1\\[i\\])? (★★★)"
      ]
    },
    {
      "cell_type": "code",
      "execution_count": 16,
      "metadata": {
        "id": "N3ggLggFyL29",
        "outputId": "a49cd953-bf6f-41a7-e886-ccf350bd0d59",
        "colab": {
          "base_uri": "https://localhost:8080/"
        }
      },
      "outputs": [
        {
          "output_type": "stream",
          "name": "stdout",
          "text": [
            "[5.14761753 3.23031802 6.19954468 4.7626529  2.56257206 1.10155604\n",
            " 4.82217496 0.7771739  0.43463973 0.08087592]\n"
          ]
        }
      ],
      "source": [
        "def distance(P0, P1, p):\n",
        "    T = P1 - P0\n",
        "    L = (T**2).sum(axis=1)\n",
        "    U = -((P0[:,0]-p[...,0])*T[:,0] + (P0[:,1]-p[...,1])*T[:,1]) / L\n",
        "    U = U.reshape(len(U),1)\n",
        "    D = P0 + U*T - p\n",
        "    return np.sqrt((D**2).sum(axis=1))\n",
        "\n",
        "P0 = np.random.uniform(-10,10,(10,2))\n",
        "P1 = np.random.uniform(-10,10,(10,2))\n",
        "p  = np.random.uniform(-10,10,( 1,2))\n",
        "print(distance(P0, P1, p))"
      ]
    },
    {
      "cell_type": "markdown",
      "metadata": {
        "id": "u_AsXTAFyL2-"
      },
      "source": [
        "#### 79. Consider 2 sets of points P0,P1 describing lines (2d) and a set of points P, how to compute distance from each point j (P\\[j\\]) to each line i (P0\\[i\\],P1\\[i\\])? (★★★)"
      ]
    },
    {
      "cell_type": "code",
      "execution_count": 17,
      "metadata": {
        "id": "OPSAQyUdyL2-",
        "outputId": "7b56a014-7da0-40b0-a6fe-b5bbd57d9837",
        "colab": {
          "base_uri": "https://localhost:8080/"
        }
      },
      "outputs": [
        {
          "output_type": "stream",
          "name": "stdout",
          "text": [
            "[[ 0.57132966  4.7038118   3.56701464  3.69188645  2.12985879 10.53494321\n",
            "  10.55414137 11.7812652   0.83119326  2.05901286]\n",
            " [ 7.03683698  2.28222394  6.12042564  7.94627329  8.77848316 14.17358392\n",
            "  15.77101157 15.0451174   4.63115422  9.88430604]\n",
            " [ 7.47977421 12.53989996  1.20515534  1.78911605  5.84877556  1.73269621\n",
            "   2.09175057  2.92451647  9.0718532   1.01676596]\n",
            " [ 5.77204568  0.28122437  8.1472852   6.37946407  7.25703108 16.60082985\n",
            "  16.19543569 17.92872269  5.64596742  4.14797771]\n",
            " [ 2.43465956  7.7752848   4.62813966  5.74999236  0.89981548  7.96976668\n",
            "   7.72660207  9.28375199  1.71736804  4.35726331]\n",
            " [ 2.40712185  7.90046854  7.6087157   8.64323128  0.92543458  8.75192931\n",
            "   8.10173083 10.15787092  0.59493069  7.16295096]\n",
            " [10.41350031 15.35657133  3.6989697   0.36061898  8.74262055  1.66626\n",
            "   1.08000472  0.51767013 12.65633559  0.07661991]\n",
            " [ 6.89344328 12.41832362  7.90130645 10.45754251  5.42406026  4.59594156\n",
            "   3.73095644  6.06289716  1.72250835  9.37252   ]\n",
            " [ 2.1568697   7.70992285  8.79118351  9.70946442  0.69589326  9.28789777\n",
            "   8.48553979 10.72754906  1.64792975  8.17291943]\n",
            " [ 3.86729702  8.76269153  4.15836189  2.31833847  2.1778842   4.38970264\n",
            "   5.29380762  5.44825923  9.29986246  3.3313902 ]]\n"
          ]
        }
      ],
      "source": [
        "P0 = np.random.uniform(-10, 10, (10,2))\n",
        "P1 = np.random.uniform(-10,10,(10,2))\n",
        "p = np.random.uniform(-10, 10, (10,2))\n",
        "print(np.array([distance(P0,P1,p_i) for p_i in p]))"
      ]
    },
    {
      "cell_type": "markdown",
      "metadata": {
        "id": "v9mLEmMZyL2-"
      },
      "source": [
        "#### 80. Consider an arbitrary array, write a function that extract a subpart with a fixed shape and centered on a given element (pad with a `fill` value when necessary) (★★★) \n",
        "(**hint**: minimum, maximum)"
      ]
    },
    {
      "cell_type": "code",
      "execution_count": null,
      "metadata": {
        "id": "bJJ_5EpeyL2-"
      },
      "outputs": [],
      "source": [
        ""
      ]
    },
    {
      "cell_type": "markdown",
      "metadata": {
        "id": "JxWQsvLCyL2_"
      },
      "source": [
        "#### 81. Consider an array Z = \\[1,2,3,4,5,6,7,8,9,10,11,12,13,14\\], how to generate an array R = \\[\\[1,2,3,4\\], \\[2,3,4,5\\], \\[3,4,5,6\\], ..., \\[11,12,13,14\\]\\]? (★★★) \n",
        "(**hint**: stride\\_tricks.as\\_strided)"
      ]
    },
    {
      "cell_type": "code",
      "execution_count": 7,
      "metadata": {
        "id": "1b-HHz_9yL2_",
        "outputId": "6b22ce5a-1a88-4d03-c0c8-9b4482b5ba24",
        "colab": {
          "base_uri": "https://localhost:8080/"
        }
      },
      "outputs": [
        {
          "output_type": "stream",
          "name": "stdout",
          "text": [
            "[[ 1  2  3  4]\n",
            " [ 2  3  4  5]\n",
            " [ 3  4  5  6]\n",
            " [ 4  5  6  7]\n",
            " [ 5  6  7  8]\n",
            " [ 6  7  8  9]\n",
            " [ 7  8  9 10]\n",
            " [ 8  9 10 11]\n",
            " [ 9 10 11 12]\n",
            " [10 11 12 13]\n",
            " [11 12 13 14]]\n"
          ]
        }
      ],
      "source": [
        "from numpy.lib import stride_tricks\n",
        "\n",
        "Z = np.arange(1,15,dtype=np.uint32)\n",
        "R = stride_tricks.as_strided(Z,(11,4),(4,4))\n",
        "print(R)\n"
      ]
    },
    {
      "cell_type": "markdown",
      "metadata": {
        "id": "cwwSIloryL3A"
      },
      "source": [
        "#### 82. Compute a matrix rank (★★★) \n",
        "(**hint**: np.linalg.svd) (suggestion: np.linalg.svd)"
      ]
    },
    {
      "cell_type": "code",
      "execution_count": 8,
      "metadata": {
        "id": "XbYtgzK2yL3A",
        "outputId": "52a4c29c-6e4f-43cc-99dc-2b9667edacae",
        "colab": {
          "base_uri": "https://localhost:8080/"
        }
      },
      "outputs": [
        {
          "output_type": "stream",
          "name": "stdout",
          "text": [
            "10\n"
          ]
        }
      ],
      "source": [
        "Z = np.random.uniform(0,1,(10,10))\n",
        "U, S, V = np.linalg.svd(Z) # Singular Value Decomposition\n",
        "rank = np.sum(S > 1e-10)\n",
        "print(rank)"
      ]
    },
    {
      "cell_type": "markdown",
      "metadata": {
        "id": "udCjEX1yyL3B"
      },
      "source": [
        "#### 83. How to find the most frequent value in an array? \n",
        "(**hint**: np.bincount, argmax)"
      ]
    },
    {
      "cell_type": "code",
      "execution_count": 9,
      "metadata": {
        "id": "5U9RD_nGyL3B",
        "outputId": "fe045481-ccb5-41f3-9312-196bef6a2b5f",
        "colab": {
          "base_uri": "https://localhost:8080/"
        }
      },
      "outputs": [
        {
          "output_type": "stream",
          "name": "stdout",
          "text": [
            "8\n"
          ]
        }
      ],
      "source": [
        "x = np.random.randint(0,10,50)\n",
        "print(np.bincount(x).argmax())"
      ]
    },
    {
      "cell_type": "markdown",
      "metadata": {
        "id": "bf6Xdtj5yL3C"
      },
      "source": [
        "#### 84. Extract all the contiguous 3x3 blocks from a random 10x10 matrix (★★★) \n",
        "(**hint**: stride\\_tricks.as\\_strided)"
      ]
    },
    {
      "cell_type": "code",
      "execution_count": 10,
      "metadata": {
        "id": "L8H1Q6u4yL3C",
        "outputId": "b2617959-b7a4-45a9-f7fb-3bea14ec39b1",
        "colab": {
          "base_uri": "https://localhost:8080/"
        }
      },
      "outputs": [
        {
          "output_type": "stream",
          "name": "stdout",
          "text": [
            "[[[[0 0 1]\n",
            "   [3 4 3]\n",
            "   [3 1 1]]\n",
            "\n",
            "  [[0 1 2]\n",
            "   [4 3 0]\n",
            "   [1 1 1]]\n",
            "\n",
            "  [[1 2 4]\n",
            "   [3 0 2]\n",
            "   [1 1 2]]\n",
            "\n",
            "  [[2 4 3]\n",
            "   [0 2 3]\n",
            "   [1 2 0]]\n",
            "\n",
            "  [[4 3 0]\n",
            "   [2 3 1]\n",
            "   [2 0 0]]\n",
            "\n",
            "  [[3 0 3]\n",
            "   [3 1 3]\n",
            "   [0 0 4]]\n",
            "\n",
            "  [[0 3 3]\n",
            "   [1 3 0]\n",
            "   [0 4 4]]\n",
            "\n",
            "  [[3 3 2]\n",
            "   [3 0 1]\n",
            "   [4 4 4]]]\n",
            "\n",
            "\n",
            " [[[3 4 3]\n",
            "   [3 1 1]\n",
            "   [1 1 1]]\n",
            "\n",
            "  [[4 3 0]\n",
            "   [1 1 1]\n",
            "   [1 1 2]]\n",
            "\n",
            "  [[3 0 2]\n",
            "   [1 1 2]\n",
            "   [1 2 0]]\n",
            "\n",
            "  [[0 2 3]\n",
            "   [1 2 0]\n",
            "   [2 0 3]]\n",
            "\n",
            "  [[2 3 1]\n",
            "   [2 0 0]\n",
            "   [0 3 3]]\n",
            "\n",
            "  [[3 1 3]\n",
            "   [0 0 4]\n",
            "   [3 3 1]]\n",
            "\n",
            "  [[1 3 0]\n",
            "   [0 4 4]\n",
            "   [3 1 4]]\n",
            "\n",
            "  [[3 0 1]\n",
            "   [4 4 4]\n",
            "   [1 4 0]]]\n",
            "\n",
            "\n",
            " [[[3 1 1]\n",
            "   [1 1 1]\n",
            "   [1 4 2]]\n",
            "\n",
            "  [[1 1 1]\n",
            "   [1 1 2]\n",
            "   [4 2 3]]\n",
            "\n",
            "  [[1 1 2]\n",
            "   [1 2 0]\n",
            "   [2 3 2]]\n",
            "\n",
            "  [[1 2 0]\n",
            "   [2 0 3]\n",
            "   [3 2 1]]\n",
            "\n",
            "  [[2 0 0]\n",
            "   [0 3 3]\n",
            "   [2 1 0]]\n",
            "\n",
            "  [[0 0 4]\n",
            "   [3 3 1]\n",
            "   [1 0 4]]\n",
            "\n",
            "  [[0 4 4]\n",
            "   [3 1 4]\n",
            "   [0 4 0]]\n",
            "\n",
            "  [[4 4 4]\n",
            "   [1 4 0]\n",
            "   [4 0 1]]]\n",
            "\n",
            "\n",
            " [[[1 1 1]\n",
            "   [1 4 2]\n",
            "   [0 3 1]]\n",
            "\n",
            "  [[1 1 2]\n",
            "   [4 2 3]\n",
            "   [3 1 3]]\n",
            "\n",
            "  [[1 2 0]\n",
            "   [2 3 2]\n",
            "   [1 3 4]]\n",
            "\n",
            "  [[2 0 3]\n",
            "   [3 2 1]\n",
            "   [3 4 3]]\n",
            "\n",
            "  [[0 3 3]\n",
            "   [2 1 0]\n",
            "   [4 3 3]]\n",
            "\n",
            "  [[3 3 1]\n",
            "   [1 0 4]\n",
            "   [3 3 1]]\n",
            "\n",
            "  [[3 1 4]\n",
            "   [0 4 0]\n",
            "   [3 1 0]]\n",
            "\n",
            "  [[1 4 0]\n",
            "   [4 0 1]\n",
            "   [1 0 2]]]\n",
            "\n",
            "\n",
            " [[[1 4 2]\n",
            "   [0 3 1]\n",
            "   [3 2 3]]\n",
            "\n",
            "  [[4 2 3]\n",
            "   [3 1 3]\n",
            "   [2 3 0]]\n",
            "\n",
            "  [[2 3 2]\n",
            "   [1 3 4]\n",
            "   [3 0 4]]\n",
            "\n",
            "  [[3 2 1]\n",
            "   [3 4 3]\n",
            "   [0 4 2]]\n",
            "\n",
            "  [[2 1 0]\n",
            "   [4 3 3]\n",
            "   [4 2 1]]\n",
            "\n",
            "  [[1 0 4]\n",
            "   [3 3 1]\n",
            "   [2 1 0]]\n",
            "\n",
            "  [[0 4 0]\n",
            "   [3 1 0]\n",
            "   [1 0 3]]\n",
            "\n",
            "  [[4 0 1]\n",
            "   [1 0 2]\n",
            "   [0 3 3]]]\n",
            "\n",
            "\n",
            " [[[0 3 1]\n",
            "   [3 2 3]\n",
            "   [2 2 4]]\n",
            "\n",
            "  [[3 1 3]\n",
            "   [2 3 0]\n",
            "   [2 4 4]]\n",
            "\n",
            "  [[1 3 4]\n",
            "   [3 0 4]\n",
            "   [4 4 1]]\n",
            "\n",
            "  [[3 4 3]\n",
            "   [0 4 2]\n",
            "   [4 1 1]]\n",
            "\n",
            "  [[4 3 3]\n",
            "   [4 2 1]\n",
            "   [1 1 4]]\n",
            "\n",
            "  [[3 3 1]\n",
            "   [2 1 0]\n",
            "   [1 4 0]]\n",
            "\n",
            "  [[3 1 0]\n",
            "   [1 0 3]\n",
            "   [4 0 2]]\n",
            "\n",
            "  [[1 0 2]\n",
            "   [0 3 3]\n",
            "   [0 2 2]]]\n",
            "\n",
            "\n",
            " [[[3 2 3]\n",
            "   [2 2 4]\n",
            "   [4 0 0]]\n",
            "\n",
            "  [[2 3 0]\n",
            "   [2 4 4]\n",
            "   [0 0 0]]\n",
            "\n",
            "  [[3 0 4]\n",
            "   [4 4 1]\n",
            "   [0 0 1]]\n",
            "\n",
            "  [[0 4 2]\n",
            "   [4 1 1]\n",
            "   [0 1 3]]\n",
            "\n",
            "  [[4 2 1]\n",
            "   [1 1 4]\n",
            "   [1 3 3]]\n",
            "\n",
            "  [[2 1 0]\n",
            "   [1 4 0]\n",
            "   [3 3 2]]\n",
            "\n",
            "  [[1 0 3]\n",
            "   [4 0 2]\n",
            "   [3 2 3]]\n",
            "\n",
            "  [[0 3 3]\n",
            "   [0 2 2]\n",
            "   [2 3 2]]]\n",
            "\n",
            "\n",
            " [[[2 2 4]\n",
            "   [4 0 0]\n",
            "   [1 2 0]]\n",
            "\n",
            "  [[2 4 4]\n",
            "   [0 0 0]\n",
            "   [2 0 0]]\n",
            "\n",
            "  [[4 4 1]\n",
            "   [0 0 1]\n",
            "   [0 0 4]]\n",
            "\n",
            "  [[4 1 1]\n",
            "   [0 1 3]\n",
            "   [0 4 2]]\n",
            "\n",
            "  [[1 1 4]\n",
            "   [1 3 3]\n",
            "   [4 2 0]]\n",
            "\n",
            "  [[1 4 0]\n",
            "   [3 3 2]\n",
            "   [2 0 3]]\n",
            "\n",
            "  [[4 0 2]\n",
            "   [3 2 3]\n",
            "   [0 3 2]]\n",
            "\n",
            "  [[0 2 2]\n",
            "   [2 3 2]\n",
            "   [3 2 2]]]]\n"
          ]
        }
      ],
      "source": [
        "Z = np.random.randint(0,5,(10,10))\n",
        "n = 3\n",
        "i = 1 + (Z.shape[0]-3)\n",
        "j = 1 + (Z.shape[1]-3)\n",
        "C = stride_tricks.as_strided(Z, shape=(i, j, n, n), strides=Z.strides + Z.strides)\n",
        "print(C)\n"
      ]
    },
    {
      "cell_type": "markdown",
      "metadata": {
        "id": "hBkV4uqGyL3C"
      },
      "source": [
        "#### 85. Create a 2D array subclass such that Z\\[i,j\\] == Z\\[j,i\\] (★★★) \n",
        "(**hint**: class method)"
      ]
    },
    {
      "cell_type": "code",
      "execution_count": 11,
      "metadata": {
        "id": "uGJ2pHywyL3D",
        "outputId": "47e72cad-9361-4bb5-eb3a-ffc46518dac5",
        "colab": {
          "base_uri": "https://localhost:8080/"
        }
      },
      "outputs": [
        {
          "output_type": "stream",
          "name": "stdout",
          "text": [
            "[[ 4  4 12 11  9]\n",
            " [ 4  3 14  9 14]\n",
            " [12 14  5 42 14]\n",
            " [11  9 42  0  8]\n",
            " [ 9 14 14  8  2]]\n"
          ]
        }
      ],
      "source": [
        "class Symetric(np.ndarray):\n",
        "    def __setitem__(self, index, value):\n",
        "        i,j = index\n",
        "        super(Symetric, self).__setitem__((i,j), value)\n",
        "        super(Symetric, self).__setitem__((j,i), value)\n",
        "\n",
        "def symetric(Z):\n",
        "    return np.asarray(Z + Z.T - np.diag(Z.diagonal())).view(Symetric)\n",
        "\n",
        "S = symetric(np.random.randint(0,10,(5,5)))\n",
        "S[2,3] = 42\n",
        "print(S)"
      ]
    },
    {
      "cell_type": "markdown",
      "metadata": {
        "id": "2wh-eVjqyL3E"
      },
      "source": [
        "#### 86. Consider a set of p matrices wich shape (n,n) and a set of p vectors with shape (n,1). How to compute the sum of of the p matrix products at once? (result has shape (n,1)) (★★★) \n",
        "(**hint**: np.tensordot)"
      ]
    },
    {
      "cell_type": "code",
      "execution_count": 12,
      "metadata": {
        "id": "uTddVaVByL3E",
        "outputId": "e42193e0-5613-4fa8-c50b-dde774d252ff",
        "colab": {
          "base_uri": "https://localhost:8080/"
        }
      },
      "outputs": [
        {
          "output_type": "stream",
          "name": "stdout",
          "text": [
            "[[200.]\n",
            " [200.]\n",
            " [200.]\n",
            " [200.]\n",
            " [200.]\n",
            " [200.]\n",
            " [200.]\n",
            " [200.]\n",
            " [200.]\n",
            " [200.]\n",
            " [200.]\n",
            " [200.]\n",
            " [200.]\n",
            " [200.]\n",
            " [200.]\n",
            " [200.]\n",
            " [200.]\n",
            " [200.]\n",
            " [200.]\n",
            " [200.]]\n"
          ]
        }
      ],
      "source": [
        "p, n = 10, 20\n",
        "M = np.ones((p,n,n))\n",
        "V = np.ones((p,n,1))\n",
        "S = np.tensordot(M, V, axes=[[0, 2], [0, 1]])\n",
        "print(S)"
      ]
    },
    {
      "cell_type": "markdown",
      "metadata": {
        "id": "iz7uHVCJyL3F"
      },
      "source": [
        "#### 87. Consider a 16x16 array, how to get the block-sum (block size is 4x4)? (★★★) \n",
        "(**hint**: np.add.reduceat)"
      ]
    },
    {
      "cell_type": "code",
      "execution_count": 13,
      "metadata": {
        "id": "mfU1SSU0yL3F",
        "outputId": "39f3513e-9fb4-405e-8ed1-1d850aadf785",
        "colab": {
          "base_uri": "https://localhost:8080/"
        }
      },
      "outputs": [
        {
          "output_type": "stream",
          "name": "stdout",
          "text": [
            "[[16. 16. 16. 16.]\n",
            " [16. 16. 16. 16.]\n",
            " [16. 16. 16. 16.]\n",
            " [16. 16. 16. 16.]]\n"
          ]
        }
      ],
      "source": [
        "Z = np.ones((16,16))\n",
        "k = 4\n",
        "S = np.add.reduceat(np.add.reduceat(Z, np.arange(0, Z.shape[0], k), axis=0),\n",
        "                                       np.arange(0, Z.shape[1], k), axis=1)\n",
        "print(S)"
      ]
    },
    {
      "cell_type": "markdown",
      "metadata": {
        "id": "BizylkCHyL3F"
      },
      "source": [
        "#### 88. How to implement the Game of Life using numpy arrays? (★★★)"
      ]
    },
    {
      "cell_type": "code",
      "execution_count": null,
      "metadata": {
        "id": "KWsRLb_HyL3G"
      },
      "outputs": [],
      "source": [
        ""
      ]
    },
    {
      "cell_type": "markdown",
      "metadata": {
        "id": "1eW2lJP3yL3G"
      },
      "source": [
        "#### 89. How to get the n largest values of an array (★★★) \n",
        "(**hint**: np.argsort | np.argpartition)"
      ]
    },
    {
      "cell_type": "code",
      "execution_count": 14,
      "metadata": {
        "id": "SIN0cDWmyL3H",
        "outputId": "52a18f16-3df4-415b-9ad9-963b3bf49689",
        "colab": {
          "base_uri": "https://localhost:8080/"
        }
      },
      "outputs": [
        {
          "output_type": "stream",
          "name": "stdout",
          "text": [
            "[9995 9996 9997 9998 9999]\n",
            "[9999 9998 9997 9996 9995]\n"
          ]
        }
      ],
      "source": [
        "Z = np.arange(10000)\n",
        "np.random.shuffle(Z)\n",
        "n = 5\n",
        "\n",
        "\n",
        "print (Z[np.argsort(Z)[-n:]])\n",
        "\n",
        "\n",
        "print (Z[np.argpartition(-Z,n)[:n]])"
      ]
    },
    {
      "cell_type": "markdown",
      "metadata": {
        "id": "AouI7yboyL3H"
      },
      "source": [
        "#### 90. Given an arbitrary number of vectors, build the cartesian product (every combinations of every item) (★★★) \n",
        "(**hint**: np.indices)"
      ]
    },
    {
      "cell_type": "code",
      "execution_count": 15,
      "metadata": {
        "scrolled": true,
        "id": "sR8YrfHPyL3I",
        "outputId": "62949666-8a29-45f1-91b6-8da41bd80c6f",
        "colab": {
          "base_uri": "https://localhost:8080/"
        }
      },
      "outputs": [
        {
          "output_type": "stream",
          "name": "stdout",
          "text": [
            "[[1 4 6]\n",
            " [1 4 7]\n",
            " [1 5 6]\n",
            " [1 5 7]\n",
            " [2 4 6]\n",
            " [2 4 7]\n",
            " [2 5 6]\n",
            " [2 5 7]\n",
            " [3 4 6]\n",
            " [3 4 7]\n",
            " [3 5 6]\n",
            " [3 5 7]]\n"
          ]
        }
      ],
      "source": [
        "def cartesian(arrays):\n",
        "    arrays = [np.asarray(a) for a in arrays]\n",
        "    shape = (len(x) for x in arrays)\n",
        "\n",
        "    ix = np.indices(shape, dtype=int)\n",
        "    ix = ix.reshape(len(arrays), -1).T\n",
        "\n",
        "    for n, arr in enumerate(arrays):\n",
        "        ix[:, n] = arrays[n][ix[:, n]]\n",
        "\n",
        "    return ix\n",
        "print (cartesian(([1, 2, 3], [4, 5], [6, 7])))    "
      ]
    },
    {
      "cell_type": "markdown",
      "metadata": {
        "id": "ey9Lou5EyL3I"
      },
      "source": [
        "#### 91. How to create a record array from a regular array? (★★★) \n",
        "(**hint**: np.core.records.fromarrays)"
      ]
    },
    {
      "cell_type": "code",
      "execution_count": 16,
      "metadata": {
        "id": "-qRTZiFxyL3I",
        "outputId": "96b5b49f-80ab-4601-8ec0-3ab2aff687f6",
        "colab": {
          "base_uri": "https://localhost:8080/"
        }
      },
      "outputs": [
        {
          "output_type": "stream",
          "name": "stdout",
          "text": [
            "[(b'Ravi', 2.5, 3) (b'Prakash', 3.6, 2)]\n"
          ]
        }
      ],
      "source": [
        "Z = np.array([(\"Ravi\", 2.5, 3),\n",
        "              (\"Prakash\", 3.6, 2)])\n",
        "R = np.core.records.fromarrays(Z.T,\n",
        "                               names='col1, col2, col3',\n",
        "                               formats = 'S8, f8, i8')\n",
        "print(R)"
      ]
    },
    {
      "cell_type": "markdown",
      "metadata": {
        "id": "TtQw0mp5yL3J"
      },
      "source": [
        "#### 92. Consider a large vector Z, compute Z to the power of 3 using 3 different methods (★★★) \n",
        "(**hint**: np.power, \\*, np.einsum)"
      ]
    },
    {
      "cell_type": "code",
      "execution_count": 19,
      "metadata": {
        "id": "B0XPxC40yL3J",
        "outputId": "df2e6f7d-5fa0-4f7e-c4a2-206da0fff62e",
        "colab": {
          "base_uri": "https://localhost:8080/"
        }
      },
      "outputs": [
        {
          "output_type": "stream",
          "name": "stdout",
          "text": [
            "1 loop, best of 5: 3.74 s per loop\n",
            "10 loops, best of 5: 140 ms per loop\n",
            "10 loops, best of 5: 120 ms per loop\n"
          ]
        }
      ],
      "source": [
        "x = np.random.rand(int(5e7))\n",
        "\n",
        "%timeit np.power(x,3)\n",
        "%timeit x*x*x\n",
        "%timeit np.einsum('i,i,i->i',x,x,x)\n"
      ]
    },
    {
      "cell_type": "markdown",
      "metadata": {
        "id": "JSRmyURkyL3K"
      },
      "source": [
        "#### 93. Consider two arrays A and B of shape (8,3) and (2,2). How to find rows of A that contain elements of each row of B regardless of the order of the elements in B? (★★★) \n",
        "(**hint**: np.where)"
      ]
    },
    {
      "cell_type": "code",
      "execution_count": 20,
      "metadata": {
        "id": "NS6TBua-yL3K",
        "outputId": "d9e230ee-6e5c-49ad-d8d4-dd5650c25768",
        "colab": {
          "base_uri": "https://localhost:8080/"
        }
      },
      "outputs": [
        {
          "output_type": "stream",
          "name": "stdout",
          "text": [
            "[0 1 3 4 5 6 7]\n"
          ]
        }
      ],
      "source": [
        "A = np.random.randint(0,5,(8,3))\n",
        "B = np.random.randint(0,5,(2,2))\n",
        "\n",
        "C = (A[..., np.newaxis, np.newaxis] == B)\n",
        "rows = np.where(C.any((3,1)).all(1))[0]\n",
        "print(rows)"
      ]
    },
    {
      "cell_type": "markdown",
      "metadata": {
        "id": "Gv59Y4hkyL3L"
      },
      "source": [
        "#### 94. Considering a 10x3 matrix, extract rows with unequal values (e.g. \\[2,2,3\\]) (★★★)"
      ]
    },
    {
      "cell_type": "code",
      "execution_count": 21,
      "metadata": {
        "id": "6NZHC0SjyL3L",
        "outputId": "651420eb-3063-4ab3-fd3b-9aeecbbd7c51",
        "colab": {
          "base_uri": "https://localhost:8080/"
        }
      },
      "outputs": [
        {
          "output_type": "stream",
          "name": "stdout",
          "text": [
            "[[3 2 3]\n",
            " [1 0 4]\n",
            " [0 3 3]\n",
            " [2 0 0]\n",
            " [3 4 1]\n",
            " [4 4 3]\n",
            " [2 3 4]\n",
            " [3 1 2]\n",
            " [0 1 3]\n",
            " [2 0 3]]\n",
            "[[3 2 3]\n",
            " [1 0 4]\n",
            " [0 3 3]\n",
            " [2 0 0]\n",
            " [3 4 1]\n",
            " [4 4 3]\n",
            " [2 3 4]\n",
            " [3 1 2]\n",
            " [0 1 3]\n",
            " [2 0 3]]\n"
          ]
        }
      ],
      "source": [
        "Z = np.random.randint(0,5,(10,3))\n",
        "E = np.logical_and.reduce(Z[:,1:] == Z[:,:-1], axis=1)\n",
        "U = Z[~E]\n",
        "print(Z)\n",
        "print(U)"
      ]
    },
    {
      "cell_type": "markdown",
      "metadata": {
        "id": "gpMesUiEyL3M"
      },
      "source": [
        "#### 95. Convert a vector of ints into a matrix binary representation (★★★) \n",
        "(**hint**: np.unpackbits)"
      ]
    },
    {
      "cell_type": "code",
      "execution_count": 23,
      "metadata": {
        "id": "tLNSof9FyL3N",
        "outputId": "dfe445f2-2a33-405b-d926-70afb9b7ce2d",
        "colab": {
          "base_uri": "https://localhost:8080/"
        }
      },
      "outputs": [
        {
          "output_type": "stream",
          "name": "stdout",
          "text": [
            "[[0 0 0 0 0 0 0 0]\n",
            " [0 0 0 0 0 0 0 1]\n",
            " [0 0 0 0 0 0 1 0]\n",
            " [0 0 0 0 0 0 1 1]\n",
            " [0 0 0 0 1 1 1 1]\n",
            " [0 0 0 1 0 0 0 0]\n",
            " [0 0 1 0 0 0 0 0]\n",
            " [0 1 0 0 0 0 0 0]\n",
            " [1 0 0 0 0 0 0 0]]\n",
            "[[0 0 0 0 0 0 0 0]\n",
            " [0 0 0 0 0 0 0 1]\n",
            " [0 0 0 0 0 0 1 0]\n",
            " [0 0 0 0 0 0 1 1]\n",
            " [0 0 0 0 1 1 1 1]\n",
            " [0 0 0 1 0 0 0 0]\n",
            " [0 0 1 0 0 0 0 0]\n",
            " [0 1 0 0 0 0 0 0]\n",
            " [1 0 0 0 0 0 0 0]]\n"
          ]
        }
      ],
      "source": [
        "I = np.array([0, 1, 2, 3, 15, 16, 32, 64, 128])\n",
        "B = ((I.reshape(-1,1) & (2**np.arange(8))) != 0).astype(int)\n",
        "print(B[:,::-1])\n",
        "\n",
        "I = np.array([0, 1, 2, 3, 15, 16, 32, 64, 128], dtype=np.uint8)\n",
        "print(np.unpackbits(I[:, np.newaxis], axis=1))\n"
      ]
    },
    {
      "cell_type": "markdown",
      "metadata": {
        "id": "df6Gyz0oyL3N"
      },
      "source": [
        "#### 96. Given a two dimensional array, how to extract unique rows? (★★★) \n",
        "(**hint**: np.ascontiguousarray)"
      ]
    },
    {
      "cell_type": "code",
      "execution_count": 24,
      "metadata": {
        "id": "LlrhvCzkyL3O",
        "outputId": "b95dda7d-7340-4508-f63a-97acb8353372",
        "colab": {
          "base_uri": "https://localhost:8080/"
        }
      },
      "outputs": [
        {
          "output_type": "stream",
          "name": "stdout",
          "text": [
            "[[0 1 1]\n",
            " [1 0 0]\n",
            " [1 0 1]\n",
            " [1 1 0]\n",
            " [1 1 1]]\n"
          ]
        }
      ],
      "source": [
        "Z = np.random.randint(0,2,(6,3))\n",
        "T = np.ascontiguousarray(Z).view(np.dtype((np.void, Z.dtype.itemsize * Z.shape[1])))\n",
        "_, idx = np.unique(T, return_index=True)\n",
        "uZ = Z[idx]\n",
        "print(uZ)\n"
      ]
    },
    {
      "cell_type": "markdown",
      "metadata": {
        "id": "t_qiYBgNyL3O"
      },
      "source": [
        "#### 97. Considering 2 vectors A & B, write the einsum equivalent of inner, outer, sum, and mul function (★★★) \n",
        "(**hint**: np.einsum)"
      ]
    },
    {
      "cell_type": "code",
      "execution_count": 25,
      "metadata": {
        "id": "25yYF5ZJyL3O",
        "outputId": "4b2f21c5-fc9f-447e-a341-eb5f46eb9fc1",
        "colab": {
          "base_uri": "https://localhost:8080/"
        }
      },
      "outputs": [
        {
          "output_type": "execute_result",
          "data": {
            "text/plain": [
              "array([[0.04573493, 0.27579449, 0.17142526, 0.0328093 , 0.31702971,\n",
              "        0.49209276, 0.44451019, 0.08474017, 0.15179989, 0.03780253],\n",
              "       [0.0789641 , 0.47617568, 0.29597597, 0.05664722, 0.54737076,\n",
              "        0.84962759, 0.76747343, 0.14630898, 0.2620916 , 0.06526833],\n",
              "       [0.00715808, 0.04316525, 0.02683017, 0.00513506, 0.04961907,\n",
              "        0.0770186 , 0.06957134, 0.01326289, 0.02375856, 0.00591656],\n",
              "       [0.02925418, 0.1764109 , 0.10965152, 0.02098634, 0.20278685,\n",
              "        0.31476527, 0.28432925, 0.05420373, 0.09709823, 0.02418024],\n",
              "       [0.02984926, 0.17999943, 0.11188203, 0.02141325, 0.20691191,\n",
              "        0.32116818, 0.29011304, 0.05530634, 0.09907339, 0.02467212],\n",
              "       [0.08508848, 0.51310744, 0.31893159, 0.06104073, 0.58982434,\n",
              "        0.91552394, 0.82699798, 0.15765657, 0.28241918, 0.07033048],\n",
              "       [0.01341521, 0.08089746, 0.05028334, 0.00962379, 0.09299279,\n",
              "        0.14434319, 0.13038602, 0.02485642, 0.04452673, 0.01108843],\n",
              "       [0.08106905, 0.48886914, 0.30386582, 0.05815727, 0.56196207,\n",
              "        0.87227619, 0.78793204, 0.15020915, 0.2690782 , 0.06700819],\n",
              "       [0.05422435, 0.32698803, 0.20324557, 0.03889943, 0.37587742,\n",
              "        0.58343603, 0.52702108, 0.10046982, 0.1799773 , 0.04481951],\n",
              "       [0.05050936, 0.30458563, 0.18932093, 0.03623438, 0.35012554,\n",
              "        0.54346402, 0.49091414, 0.09358649, 0.16764681, 0.04174887]])"
            ]
          },
          "metadata": {},
          "execution_count": 25
        }
      ],
      "source": [
        "A = np.random.uniform(0,1,10)\n",
        "B = np.random.uniform(0,1,10)\n",
        "\n",
        "np.einsum('i->', A)       # np.sum(A)\n",
        "np.einsum('i,i->i', A, B) # A * B\n",
        "np.einsum('i,i', A, B)    # np.inner(A, B)\n",
        "np.einsum('i,j->ij', A, B)"
      ]
    },
    {
      "cell_type": "markdown",
      "metadata": {
        "id": "aACeH9iRyL3O"
      },
      "source": [
        "#### 98. Considering a path described by two vectors (X,Y), how to sample it using equidistant samples (★★★)? \n",
        "(**hint**: np.cumsum, np.interp)"
      ]
    },
    {
      "cell_type": "code",
      "execution_count": 26,
      "metadata": {
        "collapsed": true,
        "id": "HxqODCWCyL3P"
      },
      "outputs": [],
      "source": [
        "phi = np.arange(0, 10*np.pi, 0.1)\n",
        "a = 1\n",
        "x = a*phi*np.cos(phi)\n",
        "y = a*phi*np.sin(phi)\n",
        "\n",
        "dr = (np.diff(x)**2 + np.diff(y)**2)**.5 \n",
        "r = np.zeros_like(x)\n",
        "r[1:] = np.cumsum(dr)                \n",
        "r_int = np.linspace(0, r.max(), 200) \n",
        "x_int = np.interp(r_int, r, x)       \n",
        "y_int = np.interp(r_int, r, y)"
      ]
    },
    {
      "cell_type": "markdown",
      "metadata": {
        "id": "LxXZ-deFyL3P"
      },
      "source": [
        "#### 99. Given an integer n and a 2D array X, select from X the rows which can be interpreted as draws from a multinomial distribution with n degrees, i.e., the rows which only contain integers and which sum to n. (★★★) \n",
        "(**hint**: np.logical\\_and.reduce, np.mod)"
      ]
    },
    {
      "cell_type": "code",
      "execution_count": 27,
      "metadata": {
        "id": "ElbUBvityL3P",
        "outputId": "4d439868-a162-4b72-e11d-84eb24fe992b",
        "colab": {
          "base_uri": "https://localhost:8080/"
        }
      },
      "outputs": [
        {
          "output_type": "stream",
          "name": "stdout",
          "text": [
            "[[2. 0. 1. 1.]]\n"
          ]
        }
      ],
      "source": [
        "X = np.asarray([[1.0, 0.0, 3.0, 8.0],\n",
        "                [2.0, 0.0, 1.0, 1.0],\n",
        "                [1.5, 2.5, 1.0, 0.0]])\n",
        "n = 4\n",
        "M = np.logical_and.reduce(np.mod(X, 1) == 0, axis=-1)\n",
        "M &= (X.sum(axis=-1) == n)\n",
        "print(X[M])"
      ]
    },
    {
      "cell_type": "markdown",
      "metadata": {
        "id": "P6jqacJeyL3P"
      },
      "source": [
        "#### 100. Compute bootstrapped 95% confidence intervals for the mean of a 1D array X (i.e., resample the elements of an array with replacement N times, compute the mean of each sample, and then compute percentiles over the means). (★★★) \n",
        "(**hint**: np.percentile)"
      ]
    },
    {
      "cell_type": "code",
      "execution_count": 28,
      "metadata": {
        "id": "2CiW6_QoyL3Q",
        "outputId": "f387a733-4fbe-4365-f8f7-b283495c47d0",
        "colab": {
          "base_uri": "https://localhost:8080/"
        }
      },
      "outputs": [
        {
          "output_type": "stream",
          "name": "stdout",
          "text": [
            "[-0.17725606  0.15817163]\n"
          ]
        }
      ],
      "source": [
        "X = np.random.randn(100) # random 1D array\n",
        "N = 1000 # number of bootstrap samples\n",
        "idx = np.random.randint(0, X.size, (N, X.size))\n",
        "means = X[idx].mean(axis=1)\n",
        "confint = np.percentile(means, [2.5, 97.5])\n",
        "print(confint)"
      ]
    },
    {
      "cell_type": "code",
      "source": [
        ""
      ],
      "metadata": {
        "id": "NE5BLAkGibZc"
      },
      "execution_count": null,
      "outputs": []
    }
  ],
  "metadata": {
    "kernelspec": {
      "display_name": "Python 3",
      "language": "python",
      "name": "python3"
    },
    "language_info": {
      "codemirror_mode": {
        "name": "ipython",
        "version": 3
      },
      "file_extension": ".py",
      "mimetype": "text/x-python",
      "name": "python",
      "nbconvert_exporter": "python",
      "pygments_lexer": "ipython3",
      "version": "3.8.3"
    },
    "colab": {
      "name": "Numpy_tasks.ipynb",
      "provenance": []
    }
  },
  "nbformat": 4,
  "nbformat_minor": 0
}